{
 "cells": [
  {
   "cell_type": "markdown",
   "metadata": {},
   "source": [
    "# Semantic Search with Couchbase GSI Vector Indexes and Jina AI"
   ]
  },
  {
   "cell_type": "markdown",
   "metadata": {},
   "source": [
    "## Overview"
   ]
  },
  {
   "cell_type": "markdown",
   "metadata": {},
   "source": [
    "This tutorial demonstrates building a high-performance semantic search engine using Couchbase's GSI (Global Secondary Index) vector search and Jina AI for embeddings and language models. We'll show measurable performance improvements with GSI optimization and implement a complete RAG (Retrieval-Augmented Generation) system.\n",
    "\n",
    "**Key Features:**\n",
    "- High-performance GSI vector search with BHIVE indexing\n",
    "- Jina AI embeddings and language models\n",
    "- Performance benchmarks showing GSI benefits\n",
    "- Complete RAG workflow with caching optimization\n",
    "\n",
    "**Requirements:** Couchbase Server 8.0+ or Capella with Query Service enabled."
   ]
  },
  {
   "cell_type": "markdown",
   "metadata": {},
   "source": [
    "## How to Run This Tutorial"
   ]
  },
  {
   "cell_type": "markdown",
   "id": "6ecc880e",
   "metadata": {},
   "source": [
    "This tutorial is available as a Jupyter Notebook that you can run interactively on [Google Colab](https://colab.research.google.com/) or locally by setting up the Python environment."
   ]
  },
  {
   "cell_type": "markdown",
   "id": "d86cdad2",
   "metadata": {},
   "source": [
    "## Prerequisites"
   ]
  },
  {
   "cell_type": "markdown",
   "id": "da24390e",
   "metadata": {},
   "source": [
    "### System Requirements"
   ]
  },
  {
   "cell_type": "markdown",
   "id": "47e2c2d0",
   "metadata": {},
   "source": [
    "- **Couchbase Server 8.0+** or Couchbase Capella\n",
    "- **Query Service enabled** (required for GSI Vector Indexes)\n",
    "- **Jina AI API credentials** ([Get them here](https://jina.ai/))\n",
    "- **JinaChat API credentials** ([Get them here](https://chat.jina.ai/api))"
   ]
  },
  {
   "cell_type": "markdown",
   "id": "3e963e49",
   "metadata": {},
   "source": [
    "### Couchbase Capella Setup"
   ]
  },
  {
   "cell_type": "markdown",
   "id": "0d047d76",
   "metadata": {},
   "source": [
    "1. **Create Account:** Deploy a [free tier cluster](https://cloud.couchbase.com/sign-up)\n",
    "2. **Configure Access:** Set up database credentials and network security  \n",
    "3. **Enable Query Service:** Required for GSI vector search functionality"
   ]
  },
  {
   "cell_type": "markdown",
   "id": "7d3c34e7",
   "metadata": {},
   "source": [
    "## Setup and Installation"
   ]
  },
  {
   "cell_type": "markdown",
   "id": "42b26aac",
   "metadata": {},
   "source": [
    "### Install Required Libraries"
   ]
  },
  {
   "cell_type": "markdown",
   "id": "203bb625",
   "metadata": {},
   "source": [
    "Install the necessary packages for Couchbase GSI vector search, Jina AI integration, and LangChain RAG capabilities."
   ]
  },
  {
   "cell_type": "code",
   "execution_count": 1,
   "metadata": {},
   "outputs": [
    {
     "name": "stdout",
     "output_type": "stream",
     "text": [
      "Note: you may need to restart the kernel to use updated packages.\n"
     ]
    }
   ],
   "source": [
    "# Jina doesnt support openai other than 0.27\n",
    "%pip install --quiet datasets==3.6.0 langchain-couchbase==0.5.0rc1 langchain-community==0.3.24 openai==0.27 python-dotenv==1.1.0 ipywidgets"
   ]
  },
  {
   "cell_type": "markdown",
   "metadata": {},
   "source": [
    "### Import Required Modules"
   ]
  },
  {
   "cell_type": "markdown",
   "id": "70e2eb33",
   "metadata": {},
   "source": [
    "Import libraries for Couchbase GSI vector search, Jina AI models, and LangChain components."
   ]
  },
  {
   "cell_type": "code",
   "execution_count": 2,
   "metadata": {},
   "outputs": [],
   "source": [
    "import logging\n",
    "import os\n",
    "import time\n",
    "from datetime import timedelta\n",
    "\n",
    "from couchbase.auth import PasswordAuthenticator\n",
    "from couchbase.cluster import Cluster\n",
    "from couchbase.exceptions import (CouchbaseException)\n",
    "from couchbase.management.buckets import CreateBucketSettings\n",
    "from couchbase.options import ClusterOptions\n",
    "from datasets import load_dataset\n",
    "from dotenv import load_dotenv\n",
    "from langchain_community.chat_models import JinaChat\n",
    "from langchain_community.embeddings import JinaEmbeddings\n",
    "from langchain_core.globals import set_llm_cache\n",
    "from langchain_core.output_parsers import StrOutputParser\n",
    "from langchain_core.prompts import ChatPromptTemplate\n",
    "from langchain_core.prompts.chat import ChatPromptTemplate\n",
    "from langchain_core.runnables import RunnablePassthrough\n",
    "from langchain_couchbase.cache import CouchbaseCache\n",
    "from langchain_couchbase.vectorstores import CouchbaseQueryVectorStore\n",
    "from langchain_couchbase.vectorstores import DistanceStrategy\n",
    "from langchain_couchbase.vectorstores import IndexType"
   ]
  },
  {
   "cell_type": "markdown",
   "metadata": {},
   "source": [
    "### Configure Logging"
   ]
  },
  {
   "cell_type": "markdown",
   "id": "d29b6521",
   "metadata": {},
   "source": [
    "Set up logging to track progress and capture any errors during execution."
   ]
  },
  {
   "cell_type": "code",
   "execution_count": 3,
   "metadata": {},
   "outputs": [],
   "source": [
    "logging.basicConfig(level=logging.INFO, format='%(asctime)s - %(levelname)s - %(message)s',force=True)\n",
    "\n",
    "# Suppress all logs from specific loggers\n",
    "logging.getLogger('openai').setLevel(logging.WARNING)\n",
    "logging.getLogger('httpx').setLevel(logging.WARNING)"
   ]
  },
  {
   "cell_type": "markdown",
   "metadata": {},
   "source": [
    "### Environment Configuration"
   ]
  },
  {
   "cell_type": "markdown",
   "id": "64ae3901",
   "metadata": {},
   "source": [
    "Load environment variables for secure access to Jina AI and Couchbase services. Create a `.env` file with your credentials."
   ]
  },
  {
   "cell_type": "code",
   "execution_count": 4,
   "metadata": {},
   "outputs": [],
   "source": [
    "load_dotenv(\"./.env\") \n",
    "\n",
    "JINA_API_KEY = os.getenv(\"JINA_API_KEY\")\n",
    "JINACHAT_API_KEY = os.getenv(\"JINACHAT_API_KEY\")\n",
    "\n",
    "CB_HOST = os.getenv(\"CB_HOST\") or 'couchbase://localhost'\n",
    "CB_USERNAME = os.getenv(\"CB_USERNAME\") or 'Administrator'\n",
    "CB_PASSWORD = os.getenv(\"CB_PASSWORD\") or 'password'\n",
    "CB_BUCKET_NAME = os.getenv(\"CB_BUCKET_NAME\") or 'vector-search-testing'\n",
    "INDEX_NAME = os.getenv(\"INDEX_NAME\") or 'vector_search_jina'\n",
    "\n",
    "SCOPE_NAME = os.getenv(\"SCOPE_NAME\") or 'shared'\n",
    "COLLECTION_NAME = os.getenv(\"COLLECTION_NAME\") or 'jina'\n",
    "CACHE_COLLECTION = os.getenv(\"CACHE_COLLECTION\") or 'cache'\n",
    "\n",
    "# Check if the variables are correctly loaded\n",
    "if not JINA_API_KEY:\n",
    "    raise ValueError(\"JINA_API_KEY environment variable is not set\")\n",
    "if not JINACHAT_API_KEY:\n",
    "    raise ValueError(\"JINACHAT_API_KEY environment variable is not set\")"
   ]
  },
  {
   "cell_type": "markdown",
   "metadata": {},
   "source": [
    "## Couchbase Connection Setup"
   ]
  },
  {
   "cell_type": "markdown",
   "id": "389019f5",
   "metadata": {},
   "source": [
    "### Connect to Cluster"
   ]
  },
  {
   "cell_type": "markdown",
   "id": "4b0d36ae",
   "metadata": {},
   "source": [
    "Establish connection to Couchbase cluster for vector storage and retrieval operations."
   ]
  },
  {
   "cell_type": "code",
   "execution_count": 5,
   "metadata": {
    "lines_to_next_cell": 1
   },
   "outputs": [
    {
     "name": "stderr",
     "output_type": "stream",
     "text": [
      "2025-09-24 14:48:22,593 - INFO - Successfully connected to Couchbase\n"
     ]
    }
   ],
   "source": [
    "try:\n",
    "    auth = PasswordAuthenticator(CB_USERNAME, CB_PASSWORD)\n",
    "    options = ClusterOptions(auth)\n",
    "    cluster = Cluster(CB_HOST, options)\n",
    "    cluster.wait_until_ready(timedelta(seconds=5))\n",
    "    logging.info(\"Successfully connected to Couchbase\")\n",
    "except Exception as e:\n",
    "    raise ConnectionError(f\"Failed to connect to Couchbase: {str(e)}\")"
   ]
  },
  {
   "cell_type": "markdown",
   "id": "21016dd0",
   "metadata": {},
   "source": [
    "### Setup Collections"
   ]
  },
  {
   "cell_type": "markdown",
   "metadata": {},
   "source": [
    "The setup_collection() function handles creating and configuring the hierarchical data organization in Couchbase:\n",
    "\n",
    "1. Bucket Creation:\n",
    "   - Checks if specified bucket exists, creates it if not\n",
    "   - Sets bucket properties like RAM quota (1024MB) and replication (disabled)\n",
    "   - Note: You will not be able to create a bucket on Capella\n",
    "\n",
    "2. Scope Management:  \n",
    "   - Verifies if requested scope exists within bucket\n",
    "   - Creates new scope if needed (unless it's the default \"_default\" scope)\n",
    "\n",
    "3. Collection Setup:\n",
    "   - Checks for collection existence within scope\n",
    "   - Creates collection if it doesn't exist\n",
    "   - Waits 2 seconds for collection to be ready\n",
    "\n",
    "Additional Tasks:\n",
    "- Creates primary index on collection for query performance\n",
    "- Clears any existing documents for clean state\n",
    "- Implements comprehensive error handling and logging\n",
    "\n",
    "The function is called twice to set up:\n",
    "1. Main collection for vector embeddings\n",
    "2. Cache collection for storing results\n"
   ]
  },
  {
   "cell_type": "code",
   "execution_count": 6,
   "metadata": {
    "lines_to_next_cell": 2
   },
   "outputs": [
    {
     "name": "stderr",
     "output_type": "stream",
     "text": [
      "2025-09-24 14:48:26,845 - INFO - Bucket 'vector-search-testing' does not exist. Creating it...\n",
      "2025-09-24 14:48:28,901 - INFO - Bucket 'vector-search-testing' created successfully.\n",
      "2025-09-24 14:48:28,906 - INFO - Scope 'shared' does not exist. Creating it...\n",
      "2025-09-24 14:48:28,954 - INFO - Scope 'shared' created successfully.\n",
      "2025-09-24 14:48:28,977 - INFO - Collection 'jina' does not exist. Creating it...\n",
      "2025-09-24 14:48:29,021 - INFO - Collection 'jina' created successfully.\n",
      "2025-09-24 14:48:31,135 - INFO - All documents cleared from the collection.\n",
      "2025-09-24 14:48:31,135 - INFO - Bucket 'vector-search-testing' exists.\n",
      "2025-09-24 14:48:31,141 - INFO - Collection 'jina_cache' does not exist. Creating it...\n",
      "2025-09-24 14:48:31,181 - INFO - Collection 'jina_cache' created successfully.\n",
      "2025-09-24 14:48:33,294 - INFO - All documents cleared from the collection.\n"
     ]
    },
    {
     "data": {
      "text/plain": [
       "<couchbase.collection.Collection at 0x13a84ae90>"
      ]
     },
     "execution_count": 6,
     "metadata": {},
     "output_type": "execute_result"
    }
   ],
   "source": [
    "def setup_collection(cluster, bucket_name, scope_name, collection_name):\n",
    "    try:\n",
    "        # Check if bucket exists, create if it doesn't\n",
    "        try:\n",
    "            bucket = cluster.bucket(bucket_name)\n",
    "            logging.info(f\"Bucket '{bucket_name}' exists.\")\n",
    "        except Exception as e:\n",
    "            logging.info(f\"Bucket '{bucket_name}' does not exist. Creating it...\")\n",
    "            bucket_settings = CreateBucketSettings(\n",
    "                name=bucket_name,\n",
    "                bucket_type='couchbase',\n",
    "                ram_quota_mb=1024,\n",
    "                flush_enabled=True,\n",
    "                num_replicas=0\n",
    "            )\n",
    "            cluster.buckets().create_bucket(bucket_settings)\n",
    "            time.sleep(2)  # Wait for bucket creation to complete and become available\n",
    "            bucket = cluster.bucket(bucket_name)\n",
    "            logging.info(f\"Bucket '{bucket_name}' created successfully.\")\n",
    "\n",
    "        bucket_manager = bucket.collections()\n",
    "\n",
    "        # Check if scope exists, create if it doesn't\n",
    "        scopes = bucket_manager.get_all_scopes()\n",
    "        scope_exists = any(scope.name == scope_name for scope in scopes)\n",
    "        \n",
    "        if not scope_exists and scope_name != \"_default\":\n",
    "            logging.info(f\"Scope '{scope_name}' does not exist. Creating it...\")\n",
    "            bucket_manager.create_scope(scope_name)\n",
    "            logging.info(f\"Scope '{scope_name}' created successfully.\")\n",
    "\n",
    "        # Check if collection exists, create if it doesn't\n",
    "        collections = bucket_manager.get_all_scopes()\n",
    "        collection_exists = any(\n",
    "            scope.name == scope_name and collection_name in [col.name for col in scope.collections]\n",
    "            for scope in collections\n",
    "        )\n",
    "\n",
    "        if not collection_exists:\n",
    "            logging.info(f\"Collection '{collection_name}' does not exist. Creating it...\")\n",
    "            bucket_manager.create_collection(scope_name, collection_name)\n",
    "            logging.info(f\"Collection '{collection_name}' created successfully.\")\n",
    "        else:\n",
    "            logging.info(f\"Collection '{collection_name}' already exists. Skipping creation.\")\n",
    "\n",
    "        # Wait for collection to be ready\n",
    "        collection = bucket.scope(scope_name).collection(collection_name)\n",
    "        time.sleep(2)  # Give the collection time to be ready for queries\n",
    "\n",
    "        # Clear all documents in the collection\n",
    "        try:\n",
    "            query = f\"DELETE FROM `{bucket_name}`.`{scope_name}`.`{collection_name}`\"\n",
    "            cluster.query(query).execute()\n",
    "            logging.info(\"All documents cleared from the collection.\")\n",
    "        except Exception as e:\n",
    "            logging.warning(f\"Error while clearing documents: {str(e)}. The collection might be empty.\")\n",
    "\n",
    "        return collection\n",
    "    except Exception as e:\n",
    "        raise RuntimeError(f\"Error setting up collection: {str(e)}\")\n",
    "    \n",
    "setup_collection(cluster, CB_BUCKET_NAME, SCOPE_NAME, COLLECTION_NAME)\n",
    "setup_collection(cluster, CB_BUCKET_NAME, SCOPE_NAME, CACHE_COLLECTION)"
   ]
  },
  {
   "cell_type": "markdown",
   "metadata": {},
   "source": [
    "## Document Processing and Vector Store"
   ]
  },
  {
   "cell_type": "markdown",
   "id": "d25abfa8",
   "metadata": {},
   "source": [
    "### Create Jina Embeddings"
   ]
  },
  {
   "cell_type": "markdown",
   "id": "d896411d",
   "metadata": {},
   "source": [
    "Set up Jina AI embeddings to convert text into high-dimensional vectors that capture semantic meaning for similarity search."
   ]
  },
  {
   "cell_type": "code",
   "execution_count": 7,
   "metadata": {},
   "outputs": [
    {
     "name": "stderr",
     "output_type": "stream",
     "text": [
      "2025-09-24 14:48:36,737 - INFO - Successfully created JinaEmbeddings\n"
     ]
    }
   ],
   "source": [
    "try:\n",
    "    embeddings = JinaEmbeddings(\n",
    "        jina_api_key=JINA_API_KEY, model_name=\"jina-embeddings-v3\"\n",
    "    )\n",
    "    logging.info(\"Successfully created JinaEmbeddings\")\n",
    "except Exception as e:\n",
    "    raise ValueError(f\"Error creating JinaEmbeddings: {str(e)}\")"
   ]
  },
  {
   "cell_type": "markdown",
   "metadata": {},
   "source": [
    "### Create GSI Vector Store"
   ]
  },
  {
   "cell_type": "markdown",
   "id": "fc69450c",
   "metadata": {},
   "source": [
    "Set up the GSI vector store for high-performance vector storage and similarity search using Couchbase's Query Service."
   ]
  },
  {
   "cell_type": "code",
   "execution_count": 8,
   "metadata": {
    "lines_to_next_cell": 2
   },
   "outputs": [
    {
     "name": "stderr",
     "output_type": "stream",
     "text": [
      "2025-09-24 14:48:38,611 - INFO - Successfully created GSI vector store\n"
     ]
    }
   ],
   "source": [
    "try:\n",
    "    vector_store = CouchbaseQueryVectorStore(\n",
    "        cluster=cluster,\n",
    "        bucket_name=CB_BUCKET_NAME,\n",
    "        scope_name=SCOPE_NAME,\n",
    "        collection_name=COLLECTION_NAME,\n",
    "        embedding=embeddings,\n",
    "        distance_metric=DistanceStrategy.COSINE\n",
    "    )\n",
    "    logging.info(\"Successfully created GSI vector store\")\n",
    "except Exception as e:\n",
    "    raise ValueError(f\"Failed to create GSI vector store: {str(e)}\")"
   ]
  },
  {
   "cell_type": "markdown",
   "metadata": {},
   "source": [
    "### Index Creation Timing"
   ]
  },
  {
   "cell_type": "markdown",
   "metadata": {},
   "source": [
    "**Important**: GSI Vector Indexes must be created AFTER uploading vector data. The index creation process analyzes existing vectors to optimize search performance through clustering and quantization."
   ]
  },
  {
   "cell_type": "markdown",
   "id": "ada786a0",
   "metadata": {},
   "source": [
    "### Load Dataset"
   ]
  },
  {
   "cell_type": "markdown",
   "id": "63010a38",
   "metadata": {},
   "source": [
    "Load the BBC News dataset for real-world testing data with authentic news articles covering various topics."
   ]
  },
  {
   "cell_type": "code",
   "execution_count": 9,
   "metadata": {},
   "outputs": [
    {
     "name": "stderr",
     "output_type": "stream",
     "text": [
      "2025-09-24 14:48:45,318 - INFO - Successfully loaded the BBC News dataset with 2687 rows.\n"
     ]
    },
    {
     "name": "stdout",
     "output_type": "stream",
     "text": [
      "Loaded the BBC News dataset with 2687 rows\n"
     ]
    }
   ],
   "source": [
    "try:\n",
    "    news_dataset = load_dataset(\n",
    "        \"RealTimeData/bbc_news_alltime\", \"2024-12\", split=\"train\"\n",
    "    )\n",
    "    print(f\"Loaded the BBC News dataset with {len(news_dataset)} rows\")\n",
    "    logging.info(f\"Successfully loaded the BBC News dataset with {len(news_dataset)} rows.\")\n",
    "except Exception as e:\n",
    "    raise ValueError(f\"Error loading the BBC News dataset: {str(e)}\")"
   ]
  },
  {
   "cell_type": "markdown",
   "metadata": {},
   "source": [
    "#### Clean Data"
   ]
  },
  {
   "cell_type": "markdown",
   "id": "920965ed",
   "metadata": {},
   "source": [
    "Remove duplicate articles to ensure clean search results."
   ]
  },
  {
   "cell_type": "code",
   "execution_count": 10,
   "metadata": {},
   "outputs": [
    {
     "name": "stdout",
     "output_type": "stream",
     "text": [
      "We have 1749 unique articles in our database.\n"
     ]
    }
   ],
   "source": [
    "news_articles = news_dataset[\"content\"]\n",
    "unique_articles = set()\n",
    "for article in news_articles:\n",
    "    if article:\n",
    "        unique_articles.add(article)\n",
    "unique_news_articles = list(unique_articles)\n",
    "print(f\"We have {len(unique_news_articles)} unique articles in our database.\")"
   ]
  },
  {
   "cell_type": "markdown",
   "metadata": {},
   "source": [
    "#### Store Data"
   ]
  },
  {
   "cell_type": "markdown",
   "id": "30c1062b",
   "metadata": {},
   "source": [
    "Process articles in batches and store them in the vector database with embeddings. We'll use 60% of the dataset for faster processing while maintaining good search quality."
   ]
  },
  {
   "cell_type": "code",
   "execution_count": 11,
   "metadata": {
    "lines_to_next_cell": 1
   },
   "outputs": [
    {
     "name": "stderr",
     "output_type": "stream",
     "text": [
      "2025-09-24 14:50:04,178 - INFO - Document ingestion completed successfully\n"
     ]
    }
   ],
   "source": [
    "# Calculate 60% of the dataset size and round to nearest integer\n",
    "dataset_size = len(unique_news_articles)\n",
    "subset_size = round(dataset_size * 0.6)\n",
    "\n",
    "# Filter articles by length and create subset\n",
    "filtered_articles = [article for article in unique_news_articles[:subset_size] \n",
    "                    if article and len(article) <= 50000]\n",
    "\n",
    "# Process in batches\n",
    "batch_size = 50\n",
    "\n",
    "try:\n",
    "    vector_store.add_texts(\n",
    "        texts=filtered_articles,\n",
    "        batch_size=batch_size\n",
    "    )\n",
    "    logging.info(\"Document ingestion completed successfully\")\n",
    "    \n",
    "except CouchbaseException as e:\n",
    "    logging.error(f\"Couchbase error during ingestion: {str(e)}\")\n",
    "    raise RuntimeError(f\"Error performing document ingestion: {str(e)}\")\n",
    "except Exception as e:\n",
    "    if \"Payment Required\" in str(e):\n",
    "        logging.error(\"Payment required for Jina AI API. Please check your subscription status and API key.\")\n",
    "        print(\"To resolve this error:\")\n",
    "        print(\"1. Visit 'https://jina.ai/reader/#pricing' to review subscription options\")\n",
    "        print(\"2. Ensure your API key is valid and has sufficient credits\") \n",
    "        print(\"3. Consider upgrading your subscription plan if needed\")\n",
    "    else:\n",
    "        logging.error(f\"Unexpected error during ingestion: {str(e)}\")\n",
    "        raise RuntimeError(f\"Failed to save documents to vector store: {str(e)}\")"
   ]
  },
  {
   "cell_type": "markdown",
   "metadata": {},
   "source": [
    "## Performance Testing: Raw Search vs GSI vs Cache Optimization"
   ]
  },
  {
   "cell_type": "markdown",
   "metadata": {},
   "source": [
    "### Understanding Vector Search Optimization Levels"
   ]
  },
  {
   "cell_type": "markdown",
   "id": "07e011ab",
   "metadata": {},
   "source": [
    "We'll demonstrate three levels of search optimization to show the progressive performance improvements available with Couchbase:\n",
    "\n",
    "1. **Raw Search**: Basic vector similarity search without any indexing optimization\n",
    "2. **GSI BHIVE Index**: High-performance vector search using Couchbase's specialized vector indexes  \n",
    "3. **Cache Optimization**: Additional performance gains from caching frequently accessed results\n",
    "\n",
    "Each level builds upon the previous one, showing measurable performance improvements for semantic search applications."
   ]
  },
  {
   "cell_type": "markdown",
   "id": "4a92abee",
   "metadata": {},
   "source": [
    "### GSI Vector Index Types Overview"
   ]
  },
  {
   "cell_type": "markdown",
   "id": "a0f316a7",
   "metadata": {},
   "source": [
    "Before we start testing, let's understand the index types available:\n",
    "\n",
    "**Hyperscale Vector Indexes (BHIVE):**\n",
    "- **Best for**: Pure vector searches - content discovery, recommendations, semantic search\n",
    "- **Performance**: High performance with low memory footprint, designed to scale to billions of vectors\n",
    "- **Optimization**: Optimized for concurrent operations, supports simultaneous searches and inserts\n",
    "- **Use when**: You primarily perform vector-only queries without complex scalar filtering\n",
    "- **Ideal for**: Large-scale semantic search, recommendation systems, content discovery\n",
    "\n",
    "**Composite Vector Indexes:**\n",
    "- **Best for**: Filtered vector searches that combine vector search with scalar value filtering\n",
    "- **Performance**: Efficient pre-filtering where scalar attributes reduce the vector comparison scope\n",
    "- **Use when**: Your queries combine vector similarity with scalar filters that eliminate large portions of data\n",
    "- **Ideal for**: Compliance-based filtering, user-specific searches, time-bounded queries\n",
    "- **Note**: Scalar filters take precedence over vector similarity\n",
    "\n",
    "**Choosing the Right Index Type:**\n",
    "- Start with Hyperscale Vector Index for pure vector searches and large datasets\n",
    "- Use Composite Vector Index when scalar filters significantly reduce your search space\n",
    "- Consider your dataset size: Hyperscale scales to billions, Composite works well for tens of millions to billions\n",
    "\n",
    "For this tutorial, we'll use **BHIVE** as it's optimized for pure semantic search scenarios."
   ]
  },
  {
   "cell_type": "markdown",
   "id": "5873986f",
   "metadata": {},
   "source": [
    "### Index Configuration Details"
   ]
  },
  {
   "cell_type": "markdown",
   "id": "fe9acddd",
   "metadata": {},
   "source": [
    "The `index_description` parameter controls how Couchbase optimizes vector storage and search performance through centroids and quantization:\n",
    "\n",
    "**Format**: `'IVF[<centroids>],{PQ|SQ}<settings>'`\n",
    "\n",
    "#### **IVF (Inverted File Index) - Centroids Configuration**\n",
    "- **Purpose**: Controls how the dataset is subdivided into clusters for faster searches\n",
    "- **Trade-offs**: More centroids = faster searches but slower training time\n",
    "- **Auto-selection**: If omitted (e.g., `IVF,SQ8`), Couchbase automatically selects the optimal number based on dataset size\n",
    "- **Manual setting**: Specify exact count (e.g., `IVF1000,SQ8` for 1000 centroids)\n",
    "\n",
    "#### **Quantization Options - Vector Compression**\n",
    "\n",
    "**SQ (Scalar Quantization)**\n",
    "- **Purpose**: Compresses vectors by reducing precision of individual components\n",
    "- **Settings**: `SQ4`, `SQ6`, `SQ8` (4-bit, 6-bit, 8-bit precision)\n",
    "- **Trade-off**: Lower bits = more compression but less precision\n",
    "- **Best for**: General-purpose applications where some precision loss is acceptable\n",
    "\n",
    "**PQ (Product Quantization)**\n",
    "- **Purpose**: Advanced compression using subquantizers for better precision\n",
    "- **Format**: `PQ<subquantizers>x<bits>` (e.g., `PQ32x8` = 32 subquantizers of 8 bits each)\n",
    "- **Trade-off**: More complex but often better precision than SQ at similar compression ratios\n",
    "- **Best for**: Applications requiring high precision with significant compression\n",
    "\n",
    "#### **Common Configuration Examples**\n",
    "\n",
    "```\n",
    "IVF,SQ8          # Auto-selected centroids with 8-bit scalar quantization (recommended default)\n",
    "IVF1000,SQ6      # 1000 centroids with 6-bit scalar quantization (higher compression)\n",
    "IVF,PQ32x8       # Auto-selected centroids with 32 subquantizers of 8 bits each\n",
    "IVF500,PQ16x4    # 500 centroids with 16 subquantizers of 4 bits each (high compression)\n",
    "```\n",
    "\n",
    "#### **Performance Considerations**\n",
    "\n",
    "**Distance Interpretation**: In GSI vector search, lower distance values indicate higher similarity, while higher distance values indicate lower similarity.\n",
    "\n",
    "**Scalability**: BHIVE indexes can scale to billions of vectors with optimized concurrent operations, making them suitable for large-scale production deployments.\n",
    "\n",
    "For detailed configuration options, see the [Quantization & Centroid Settings](https://preview.docs-test.couchbase.com/docs-server-DOC-12565_vector_search_concepts/server/current/vector-index/hyperscale-vector-index.html#algo_settings).\n",
    "\n",
    "For more information on GSI Vector Indexes, see [Couchbase GSI Vector Documentation](https://docs.couchbase.com/server/current/n1ql/n1ql-language-reference/vector-search.html)."
   ]
  },
  {
   "cell_type": "markdown",
   "id": "19def3fc",
   "metadata": {},
   "source": [
    "### Performance Test Helper Function"
   ]
  },
  {
   "cell_type": "code",
   "execution_count": 12,
   "id": "853ebd3d",
   "metadata": {
    "lines_to_next_cell": 1
   },
   "outputs": [],
   "source": [
    "def test_search_performance(vector_store, query, label=\"Search\", show_results=True):\n",
    "    \"\"\"Test search performance and return timing metrics\"\"\"\n",
    "    print(f\"\\n[{label}] Testing query: '{query}'\")\n",
    "    start_time = time.time()\n",
    "    \n",
    "    try:\n",
    "        results = vector_store.similarity_search_with_score(query, k=3)\n",
    "        end_time = time.time()\n",
    "        search_time = end_time - start_time\n",
    "        \n",
    "        print(f\"[{label}] Search completed in {search_time:.4f} seconds\")\n",
    "        print(f\"[{label}] Found {len(results)} documents\")\n",
    "        \n",
    "        if results and show_results:\n",
    "            doc, distance = results[0]\n",
    "            print(f\"[{label}] Top result distance: {distance:.6f} (lower = more similar)\")\n",
    "            print(f\"[{label}] Top result preview: {doc.page_content[:100]}...\")\n",
    "        \n",
    "        return search_time, results\n",
    "    except Exception as e:\n",
    "        print(f\"[{label}] Search failed: {str(e)}\")\n",
    "        return None, None"
   ]
  },
  {
   "cell_type": "markdown",
   "id": "bddd2046",
   "metadata": {},
   "source": [
    "### Phase 1: Raw Search Performance (Baseline)"
   ]
  },
  {
   "cell_type": "markdown",
   "id": "ed7bf364",
   "metadata": {},
   "source": [
    "Test performance with basic vector search before any GSI optimization. This establishes our baseline performance."
   ]
  },
  {
   "cell_type": "code",
   "execution_count": 13,
   "metadata": {},
   "outputs": [
    {
     "name": "stdout",
     "output_type": "stream",
     "text": [
      "\n",
      "================================================================================\n",
      "PHASE 1: RAW SEARCH PERFORMANCE (BASELINE)\n",
      "================================================================================\n",
      "Testing basic vector similarity search without GSI optimization...\n",
      "\n",
      "[Raw Search (No GSI)] Testing query: 'What was manchester city manager pep guardiola's reaction to the team's current form?'\n",
      "[Raw Search (No GSI)] Search completed in 1.0584 seconds\n",
      "[Raw Search (No GSI)] Found 3 documents\n",
      "[Raw Search (No GSI)] Top result distance: 0.320541 (lower = more similar)\n",
      "[Raw Search (No GSI)] Top result preview: 'Self-doubt, errors & big changes' - inside the crisis at Man City\n",
      "\n",
      "Pep Guardiola has not been throu...\n"
     ]
    }
   ],
   "source": [
    "print(\"\\n\" + \"=\"*80)\n",
    "print(\"PHASE 1: RAW SEARCH PERFORMANCE (BASELINE)\")\n",
    "print(\"=\"*80)\n",
    "print(\"Testing basic vector similarity search without GSI optimization...\")\n",
    "\n",
    "# Test queries for each phase\n",
    "query_phase1 = \"What was manchester city manager pep guardiola's reaction to the team's current form?\"\n",
    "query_phase2 = \"What happened in the latest Premier League matches?\"\n",
    "query_phase3 = query_phase2  # Same query to test cache benefits\n",
    "\n",
    "# Phase 1: Raw search performance\n",
    "baseline_time, baseline_results = test_search_performance(\n",
    "    vector_store, query_phase1, \"Raw Search (No GSI)\"\n",
    ")"
   ]
  },
  {
   "cell_type": "markdown",
   "metadata": {},
   "source": [
    "### Phase 2: Create GSI BHIVE Index and Test Performance"
   ]
  },
  {
   "cell_type": "markdown",
   "id": "456d3bcf",
   "metadata": {},
   "source": [
    "Create the high-performance BHIVE GSI index and measure the performance improvement."
   ]
  },
  {
   "cell_type": "code",
   "execution_count": 14,
   "id": "95782a29",
   "metadata": {},
   "outputs": [
    {
     "name": "stdout",
     "output_type": "stream",
     "text": [
      "\n",
      "================================================================================\n",
      "PHASE 2: GSI BHIVE INDEX OPTIMIZATION\n",
      "================================================================================\n",
      "Creating BHIVE GSI vector index...\n",
      "✓ GSI Vector index created successfully\n",
      "Waiting for index to become available...\n",
      "\n",
      "Testing GSI-optimized search performance...\n",
      "\n",
      "[GSI BHIVE Optimized] Testing query: 'What happened in the latest Premier League matches?'\n",
      "[GSI BHIVE Optimized] Search completed in 0.4883 seconds\n",
      "[GSI BHIVE Optimized] Found 3 documents\n",
      "[GSI BHIVE Optimized] Top result distance: 0.460026 (lower = more similar)\n",
      "[GSI BHIVE Optimized] Top result preview: Garry Richardson chooses the audio highlights across the BBC over the last twelve months....\n"
     ]
    }
   ],
   "source": [
    "print(\"\\n\" + \"=\"*80)\n",
    "print(\"PHASE 2: GSI BHIVE INDEX OPTIMIZATION\")  \n",
    "print(\"=\"*80)\n",
    "\n",
    "# Create GSI Vector Index for high-performance searches\n",
    "print(\"Creating BHIVE GSI vector index...\")\n",
    "try:\n",
    "    vector_store.create_index(\n",
    "        index_type=IndexType.BHIVE, # Use IndexType.COMPOSITE for Composite index\n",
    "        index_description=\"IVF,SQ8\"\n",
    "    )\n",
    "    print(\"✓ GSI Vector index created successfully\")\n",
    "    \n",
    "    # Wait for index to become available\n",
    "    print(\"Waiting for index to become available...\")\n",
    "    time.sleep(5)\n",
    "    \n",
    "except Exception as e:\n",
    "    if \"already exists\" in str(e).lower():\n",
    "        print(\"✓ GSI Vector index already exists, proceeding...\")\n",
    "    else:\n",
    "        print(f\"Error creating GSI index: {str(e)}\")\n",
    "\n",
    "# Test performance with GSI index using a different query\n",
    "print(\"\\nTesting GSI-optimized search performance...\")\n",
    "gsi_time, gsi_results = test_search_performance(\n",
    "    vector_store, query_phase2, \"GSI BHIVE Optimized\"\n",
    ")"
   ]
  },
  {
   "cell_type": "markdown",
   "id": "bde5a4fc",
   "metadata": {},
   "source": [
    "### Phase 3: Cache Optimization Testing"
   ]
  },
  {
   "cell_type": "markdown",
   "id": "233a4c33",
   "metadata": {},
   "source": [
    "Test the additional performance benefits from caching by running the same query twice to demonstrate cache hit optimization."
   ]
  },
  {
   "cell_type": "code",
   "execution_count": 16,
   "id": "6ec8f1ec",
   "metadata": {},
   "outputs": [
    {
     "name": "stdout",
     "output_type": "stream",
     "text": [
      "\n",
      "================================================================================\n",
      "PHASE 3: CACHE OPTIMIZATION TESTING\n",
      "================================================================================\n",
      "Setting up Couchbase cache for query optimization...\n",
      "✓ Couchbase cache configured successfully\n",
      "\n",
      "Testing cache optimization with repeated query...\n",
      "First execution (cache miss - will be slower):\n",
      "\n",
      "[GSI + Cache (1st run)] Testing query: 'What happened in the latest Premier League matches?'\n",
      "[GSI + Cache (1st run)] Search completed in 0.8192 seconds\n",
      "[GSI + Cache (1st run)] Found 3 documents\n",
      "\n",
      "Second execution (cache hit - should be faster):\n",
      "\n",
      "[GSI + Cache (2nd run)] Testing query: 'What happened in the latest Premier League matches?'\n",
      "[GSI + Cache (2nd run)] Search completed in 0.5779 seconds\n",
      "[GSI + Cache (2nd run)] Found 3 documents\n"
     ]
    }
   ],
   "source": [
    "print(\"\\n\" + \"=\"*80)\n",
    "print(\"PHASE 3: CACHE OPTIMIZATION TESTING\")\n",
    "print(\"=\"*80)\n",
    "\n",
    "# Set up Couchbase cache for query result caching\n",
    "print(\"Setting up Couchbase cache for query optimization...\")\n",
    "try:\n",
    "    cache = CouchbaseCache(\n",
    "        cluster=cluster,\n",
    "        bucket_name=CB_BUCKET_NAME,\n",
    "        scope_name=SCOPE_NAME,\n",
    "        collection_name=CACHE_COLLECTION,\n",
    "    )\n",
    "    set_llm_cache(cache)\n",
    "    print(\"✓ Couchbase cache configured successfully\")\n",
    "except Exception as e:\n",
    "    print(f\"Warning: Failed to create cache: {str(e)}\")\n",
    "    cache = None\n",
    "\n",
    "# Test cache performance with repeated queries\n",
    "print(\"\\nTesting cache optimization with repeated query...\")\n",
    "\n",
    "print(\"First execution (cache miss - will be slower):\")\n",
    "cache_time_1, cache_results_1 = test_search_performance(\n",
    "    vector_store, query_phase3, \"GSI + Cache (1st run)\", show_results=False\n",
    ")\n",
    "\n",
    "print(\"\\nSecond execution (cache hit - should be faster):\")  \n",
    "cache_time_2, cache_results_2 = test_search_performance(\n",
    "    vector_store, query_phase3, \"GSI + Cache (2nd run)\", show_results=False\n",
    ")"
   ]
  },
  {
   "cell_type": "markdown",
   "id": "bc3993e1",
   "metadata": {},
   "source": [
    "### Complete Performance Summary"
   ]
  },
  {
   "cell_type": "markdown",
   "id": "dd20d4bc",
   "metadata": {},
   "source": [
    "Compare all three optimization levels and show the cumulative performance improvements."
   ]
  },
  {
   "cell_type": "code",
   "execution_count": 17,
   "id": "b2bfa313",
   "metadata": {},
   "outputs": [
    {
     "name": "stdout",
     "output_type": "stream",
     "text": [
      "\n",
      "==========================================================================================\n",
      "COMPLETE PERFORMANCE OPTIMIZATION SUMMARY\n",
      "==========================================================================================\n",
      "Phase 1: Raw Search      : 1.0584 seconds\n",
      "Phase 2: GSI BHIVE       : 0.4883 seconds\n",
      "Phase 3: GSI + Cache     : 0.5779 seconds\n",
      "\n",
      "Performance Improvements:\n",
      "--------------------------------------------------\n",
      "GSI vs Raw Search:        2.17x faster (53.9% improvement)\n",
      "Cache vs Non-cached:      1.42x faster (29.5% improvement)\n",
      "Total Optimization:       1.83x faster (45.4% improvement)\n",
      "\n",
      "Key Optimization Benefits:\n",
      "--------------------------------------------------\n",
      "• GSI BHIVE Index: Optimized vector clustering and quantization\n",
      "• Cache System: Eliminates redundant computations for repeated queries\n",
      "• Scalability: Both optimizations scale well with dataset size\n",
      "• Production Ready: Suitable for high-volume, low-latency applications\n"
     ]
    }
   ],
   "source": [
    "print(\"\\n\" + \"=\"*90)\n",
    "print(\"COMPLETE PERFORMANCE OPTIMIZATION SUMMARY\")\n",
    "print(\"=\"*90)\n",
    "\n",
    "# Display results from all phases\n",
    "times = []\n",
    "labels = []\n",
    "\n",
    "if baseline_time:\n",
    "    times.append(baseline_time)\n",
    "    labels.append(\"Phase 1: Raw Search\")\n",
    "    \n",
    "if gsi_time:\n",
    "    times.append(gsi_time) \n",
    "    labels.append(\"Phase 2: GSI BHIVE\")\n",
    "    \n",
    "if cache_time_2:\n",
    "    times.append(cache_time_2)\n",
    "    labels.append(\"Phase 3: GSI + Cache\")\n",
    "\n",
    "# Print timing summary\n",
    "for i, (time_val, label) in enumerate(zip(times, labels)):\n",
    "    print(f\"{label:<25}: {time_val:.4f} seconds\")\n",
    "\n",
    "# Calculate improvements\n",
    "if len(times) >= 2:\n",
    "    print(f\"\\n{'Performance Improvements:':<25}\")\n",
    "    print(\"-\" * 50)\n",
    "    \n",
    "    if baseline_time and gsi_time:\n",
    "        gsi_improvement = ((baseline_time - gsi_time) / baseline_time) * 100\n",
    "        gsi_speedup = baseline_time / gsi_time if gsi_time > 0 else float('inf')\n",
    "        print(f\"GSI vs Raw Search:        {gsi_speedup:.2f}x faster ({gsi_improvement:.1f}% improvement)\")\n",
    "    \n",
    "    if cache_time_1 and cache_time_2 and cache_time_1 > cache_time_2:\n",
    "        cache_improvement = ((cache_time_1 - cache_time_2) / cache_time_1) * 100\n",
    "        cache_speedup = cache_time_1 / cache_time_2\n",
    "        print(f\"Cache vs Non-cached:      {cache_speedup:.2f}x faster ({cache_improvement:.1f}% improvement)\")\n",
    "    \n",
    "    if baseline_time and cache_time_2:\n",
    "        total_improvement = ((baseline_time - cache_time_2) / baseline_time) * 100\n",
    "        total_speedup = baseline_time / cache_time_2 if cache_time_2 > 0 else float('inf')\n",
    "        print(f\"Total Optimization:       {total_speedup:.2f}x faster ({total_improvement:.1f}% improvement)\")\n",
    "\n",
    "print(f\"\\n{'Key Optimization Benefits:':<25}\")\n",
    "print(\"-\" * 50)\n",
    "print(\"• GSI BHIVE Index: Optimized vector clustering and quantization\")\n",
    "print(\"• Cache System: Eliminates redundant computations for repeated queries\") \n",
    "print(\"• Scalability: Both optimizations scale well with dataset size\")\n",
    "print(\"• Production Ready: Suitable for high-volume, low-latency applications\")"
   ]
  },
  {
   "cell_type": "markdown",
   "id": "05422af8",
   "metadata": {},
   "source": [
    "## Jina AI Language Model and RAG Integration"
   ]
  },
  {
   "cell_type": "markdown",
   "id": "9e7387d5",
   "metadata": {},
   "source": [
    "### Understanding RAG (Retrieval-Augmented Generation)"
   ]
  },
  {
   "cell_type": "markdown",
   "id": "1cb6a861",
   "metadata": {},
   "source": [
    "RAG combines semantic search with language model generation for intelligent, context-aware responses:\n",
    "\n",
    "1. **Query Processing**: User question is converted to vector embedding using Jina AI\n",
    "2. **Document Retrieval**: GSI vector search finds most relevant documents from our knowledge base\n",
    "3. **Context Assembly**: Retrieved documents provide factual context for the language model\n",
    "4. **Response Generation**: Jina's language model generates intelligent answers grounded in the retrieved data\n",
    "\n",
    "This approach ensures responses are factually grounded rather than relying solely on the model's training knowledge."
   ]
  },
  {
   "cell_type": "markdown",
   "metadata": {},
   "source": [
    "### Create Jina Language Model"
   ]
  },
  {
   "cell_type": "markdown",
   "id": "b34aa69e",
   "metadata": {},
   "source": [
    "Initialize Jina's chat model for generating intelligent responses based on retrieved context."
   ]
  },
  {
   "cell_type": "code",
   "execution_count": 18,
   "metadata": {},
   "outputs": [
    {
     "name": "stderr",
     "output_type": "stream",
     "text": [
      "2025-09-24 14:51:57,158 - INFO - Successfully created JinaChat\n"
     ]
    },
    {
     "name": "stdout",
     "output_type": "stream",
     "text": [
      "\n",
      "============================================================\n",
      "SETTING UP JINA AI LANGUAGE MODEL\n",
      "============================================================\n",
      "✓ JinaChat language model created successfully\n"
     ]
    }
   ],
   "source": [
    "print(\"\\n\" + \"=\"*60)\n",
    "print(\"SETTING UP JINA AI LANGUAGE MODEL\")\n",
    "print(\"=\"*60)\n",
    "\n",
    "try:\n",
    "    llm = JinaChat(temperature=0.1, jinachat_api_key=JINACHAT_API_KEY)\n",
    "    print(\"✓ JinaChat language model created successfully\")\n",
    "    logging.info(\"Successfully created JinaChat\")\n",
    "except Exception as e:\n",
    "    print(f\"✗ Error creating JinaChat: {str(e)}\")\n",
    "    print(\"Please check your JINACHAT_API_KEY and network connection.\")\n",
    "    raise"
   ]
  },
  {
   "cell_type": "markdown",
   "id": "ae5dc546",
   "metadata": {},
   "source": [
    "## Intelligent Response Generation with Jina AI"
   ]
  },
  {
   "cell_type": "markdown",
   "id": "c5690037",
   "metadata": {},
   "source": [
    "### Understanding RAG (Retrieval-Augmented Generation)"
   ]
  },
  {
   "cell_type": "markdown",
   "id": "f9b65853",
   "metadata": {},
   "source": [
    "RAG combines the power of semantic search with language model generation. The process works as follows:\n",
    "\n",
    "1. **Query Processing**: User question is converted to vector embedding\n",
    "2. **Document Retrieval**: GSI vector search finds most relevant documents\n",
    "3. **Context Assembly**: Retrieved documents provide context for the language model\n",
    "4. **Response Generation**: Jina's language model generates intelligent answers based on the context\n",
    "\n",
    "This approach ensures responses are grounded in actual data rather than relying solely on the model's training knowledge."
   ]
  },
  {
   "cell_type": "markdown",
   "id": "a0ff88ce",
   "metadata": {},
   "source": [
    "### Build RAG Pipeline"
   ]
  },
  {
   "cell_type": "markdown",
   "id": "fb01bba0",
   "metadata": {},
   "source": [
    "Create the complete RAG pipeline that integrates GSI vector search with Jina's language model."
   ]
  },
  {
   "cell_type": "code",
   "execution_count": 19,
   "metadata": {},
   "outputs": [
    {
     "name": "stdout",
     "output_type": "stream",
     "text": [
      "RAG pipeline created successfully\n",
      "Components: GSI Vector Search → Context Assembly → Jina Language Model → Response\n"
     ]
    }
   ],
   "source": [
    "try:\n",
    "    # Create RAG prompt template for structured responses\n",
    "    template = \"\"\"You are a helpful assistant that answers questions based on the provided context. \n",
    "    If you cannot answer based on the context provided, respond with a generic answer. \n",
    "    Answer the question as truthfully as possible using the context below:\n",
    "    \n",
    "    Context:\n",
    "    {context}\n",
    "\n",
    "    Question: {question}\n",
    "    \n",
    "    Answer:\"\"\"\n",
    "    \n",
    "    prompt = ChatPromptTemplate.from_template(template)\n",
    "\n",
    "    # Build the RAG chain: Retrieval → Context → Generation → Output\n",
    "    rag_chain = (\n",
    "        {\n",
    "            \"context\": vector_store.as_retriever(search_kwargs={\"k\": 2}), \n",
    "            \"question\": RunnablePassthrough()\n",
    "        }\n",
    "        | prompt\n",
    "        | llm\n",
    "        | StrOutputParser()\n",
    "    )\n",
    "    print(\"RAG pipeline created successfully\")\n",
    "    print(\"Components: GSI Vector Search → Context Assembly → Jina Language Model → Response\")\n",
    "except Exception as e:\n",
    "    raise ValueError(f\"Error creating RAG pipeline: {str(e)}\")"
   ]
  },
  {
   "cell_type": "markdown",
   "metadata": {},
   "source": [
    "### Test Intelligent Response Generation"
   ]
  },
  {
   "cell_type": "markdown",
   "id": "2ee16813",
   "metadata": {},
   "source": [
    "Test the complete RAG system to see how it generates intelligent responses based on retrieved context."
   ]
  },
  {
   "cell_type": "code",
   "execution_count": 20,
   "id": "ad25d4fa",
   "metadata": {},
   "outputs": [
    {
     "name": "stdout",
     "output_type": "stream",
     "text": [
      "Testing Intelligent Response Generation\n",
      "==================================================\n",
      "User Query: What was manchester city manager pep guardiola's reaction to the team's current form?\n",
      "\n",
      "Processing...\n",
      "1. Converting query to vector embedding\n",
      "2. Searching GSI vector index for relevant documents\n",
      "3. Assembling context from retrieved documents\n",
      "4. Generating intelligent response with Jina AI\n",
      "\n",
      "Intelligent Response:\n",
      "------------------------------\n",
      "Pep Guardiola has shown self-doubt and concern regarding Manchester City's recent performance.\n"
     ]
    }
   ],
   "source": [
    "print(\"Testing Intelligent Response Generation\")\n",
    "print(\"=\" * 50)\n",
    "\n",
    "try:\n",
    "    # Test with a specific query\n",
    "    sample_query = \"What was manchester city manager pep guardiola's reaction to the team's current form?\"\n",
    "    print(f\"User Query: {sample_query}\")\n",
    "    print(\"\\nProcessing...\")\n",
    "    print(\"1. Converting query to vector embedding\")\n",
    "    print(\"2. Searching GSI vector index for relevant documents\")\n",
    "    print(\"3. Assembling context from retrieved documents\")\n",
    "    print(\"4. Generating intelligent response with Jina AI\")\n",
    "    \n",
    "    rag_response = rag_chain.invoke(sample_query)\n",
    "    print(f\"\\nIntelligent Response:\")\n",
    "    print(\"-\" * 30)\n",
    "    print(rag_response)\n",
    "    \n",
    "except Exception as e:\n",
    "    if \"Payment Required\" in str(e):\n",
    "        print(\"\\nPayment required for Jina AI API.\")\n",
    "        print(\"To resolve:\")\n",
    "        print(\"• Visit https://jina.ai/reader/#pricing for subscription options\")\n",
    "        print(\"• Ensure your API key is valid and has sufficient credits\")\n",
    "    else:\n",
    "        print(f\"Error: {str(e)}\")"
   ]
  },
  {
   "cell_type": "markdown",
   "id": "a1a8c10f",
   "metadata": {},
   "source": [
    "### Demonstrate RAG with Multiple Queries"
   ]
  },
  {
   "cell_type": "markdown",
   "id": "e0d54f9a",
   "metadata": {},
   "source": [
    "Test the RAG system with various queries to show its versatility and the benefits of caching for repeated queries."
   ]
  },
  {
   "cell_type": "code",
   "execution_count": 21,
   "id": "29dfc8b9",
   "metadata": {},
   "outputs": [
    {
     "name": "stdout",
     "output_type": "stream",
     "text": [
      "\n",
      "Testing RAG System with Multiple Queries\n",
      "=============================================\n",
      "\n",
      "--- Query 1 ---\n",
      "Question: What happened in the match between Fulham and Liverpool?\n",
      "Response: ### Match Summary: Fulham vs. Liverpool\n",
      "\n",
      "In the Premier League match between Fulham and Liverpool, the game ended in a 2-2 draw. Liverpool played the majority of the game with ten men. Arne Slot, the Liverpool head coach, described his team's performance as \"impressive.\"\n",
      "\n",
      "--- Query 2 ---\n",
      "Question: What are the latest developments in football transfers?\n",
      "Response: ### Latest Developments in Football Transfers\n",
      "\n",
      "The latest developments in football transfers involve Everton Football Club undergoing new ownership with the Friedkin Group, potential managerial changes, and ongoing contract negotiations with key players like Dominic Calvert-Lewin.\n",
      "\n",
      "--- Query 3 ---\n",
      "Question: What happened in the match between Fulham and Liverpool?\n",
      "(This is a repeated query - should benefit from caching)\n",
      "Response: ### Match Summary: Fulham vs. Liverpool\n",
      "\n",
      "In the Premier League match between Fulham and Liverpool, the game ended in a 2-2 draw. Liverpool played the majority of the game with ten men. Arne Slot, the Liverpool head coach, described his team's performance as \"impressive.\"\n"
     ]
    }
   ],
   "source": [
    "print(\"\\nTesting RAG System with Multiple Queries\")\n",
    "print(\"=\" * 45)\n",
    "\n",
    "try:\n",
    "    test_queries = [\n",
    "        \"What happened in the match between Fulham and Liverpool?\",\n",
    "        \"What are the latest developments in football transfers?\",\n",
    "        \"What happened in the match between Fulham and Liverpool?\",  # Repeated to show caching\n",
    "    ]\n",
    "\n",
    "    for i, query in enumerate(test_queries, 1):\n",
    "        print(f\"\\n--- Query {i} ---\")\n",
    "        print(f\"Question: {query}\")\n",
    "        \n",
    "        if i == 3:\n",
    "            print(\"(This is a repeated query - should benefit from caching)\")\n",
    "        \n",
    "        response = rag_chain.invoke(query)\n",
    "        print(f\"Response: {response}\")\n",
    "        \n",
    "except Exception as e:\n",
    "    if \"Payment Required\" in str(e):\n",
    "        print(\"Payment required for Jina AI API.\")\n",
    "    else:\n",
    "        print(f\"Error: {str(e)}\")"
   ]
  },
  {
   "cell_type": "markdown",
   "metadata": {},
   "source": [
    "## Conclusion"
   ]
  },
  {
   "cell_type": "markdown",
   "id": "584e1e1b",
   "metadata": {},
   "source": [
    "You've successfully built a high-performance semantic search engine combining:\n",
    "- **Couchbase GSI BHIVE indexes** for optimized vector search\n",
    "- **Jina AI embeddings and language models** for intelligent processing\n",
    "- **Complete RAG pipeline** with caching optimization"
   ]
  }
 ],
 "metadata": {
  "colab": {
   "provenance": [],
   "toc_visible": true
  },
  "kernelspec": {
   "display_name": ".venv",
   "language": "python",
   "name": "python3"
  },
  "language_info": {
   "codemirror_mode": {
    "name": "ipython",
    "version": 3
   },
   "file_extension": ".py",
   "mimetype": "text/x-python",
   "name": "python",
   "nbconvert_exporter": "python",
   "pygments_lexer": "ipython3",
   "version": "3.13.7"
  },
  "widgets": {
   "application/vnd.jupyter.widget-state+json": {
    "022d04b681384badb252b7c859d24310": {
     "model_module": "@jupyter-widgets/base",
     "model_module_version": "1.2.0",
     "model_name": "LayoutModel",
     "state": {
      "_model_module": "@jupyter-widgets/base",
      "_model_module_version": "1.2.0",
      "_model_name": "LayoutModel",
      "_view_count": null,
      "_view_module": "@jupyter-widgets/base",
      "_view_module_version": "1.2.0",
      "_view_name": "LayoutView",
      "align_content": null,
      "align_items": null,
      "align_self": null,
      "border": null,
      "bottom": null,
      "display": null,
      "flex": null,
      "flex_flow": null,
      "grid_area": null,
      "grid_auto_columns": null,
      "grid_auto_flow": null,
      "grid_auto_rows": null,
      "grid_column": null,
      "grid_gap": null,
      "grid_row": null,
      "grid_template_areas": null,
      "grid_template_columns": null,
      "grid_template_rows": null,
      "height": null,
      "justify_content": null,
      "justify_items": null,
      "left": null,
      "margin": null,
      "max_height": null,
      "max_width": null,
      "min_height": null,
      "min_width": null,
      "object_fit": null,
      "object_position": null,
      "order": null,
      "overflow": null,
      "overflow_x": null,
      "overflow_y": null,
      "padding": null,
      "right": null,
      "top": null,
      "visibility": null,
      "width": null
     }
    },
    "048d9cfba04e4413953b15cdd1ce15ef": {
     "model_module": "@jupyter-widgets/base",
     "model_module_version": "1.2.0",
     "model_name": "LayoutModel",
     "state": {
      "_model_module": "@jupyter-widgets/base",
      "_model_module_version": "1.2.0",
      "_model_name": "LayoutModel",
      "_view_count": null,
      "_view_module": "@jupyter-widgets/base",
      "_view_module_version": "1.2.0",
      "_view_name": "LayoutView",
      "align_content": null,
      "align_items": null,
      "align_self": null,
      "border": null,
      "bottom": null,
      "display": null,
      "flex": null,
      "flex_flow": null,
      "grid_area": null,
      "grid_auto_columns": null,
      "grid_auto_flow": null,
      "grid_auto_rows": null,
      "grid_column": null,
      "grid_gap": null,
      "grid_row": null,
      "grid_template_areas": null,
      "grid_template_columns": null,
      "grid_template_rows": null,
      "height": null,
      "justify_content": null,
      "justify_items": null,
      "left": null,
      "margin": null,
      "max_height": null,
      "max_width": null,
      "min_height": null,
      "min_width": null,
      "object_fit": null,
      "object_position": null,
      "order": null,
      "overflow": null,
      "overflow_x": null,
      "overflow_y": null,
      "padding": null,
      "right": null,
      "top": null,
      "visibility": null,
      "width": null
     }
    },
    "09be2aa2ae574329ac3ff76dbaa6855d": {
     "model_module": "@jupyter-widgets/base",
     "model_module_version": "1.2.0",
     "model_name": "LayoutModel",
     "state": {
      "_model_module": "@jupyter-widgets/base",
      "_model_module_version": "1.2.0",
      "_model_name": "LayoutModel",
      "_view_count": null,
      "_view_module": "@jupyter-widgets/base",
      "_view_module_version": "1.2.0",
      "_view_name": "LayoutView",
      "align_content": null,
      "align_items": null,
      "align_self": null,
      "border": null,
      "bottom": null,
      "display": null,
      "flex": null,
      "flex_flow": null,
      "grid_area": null,
      "grid_auto_columns": null,
      "grid_auto_flow": null,
      "grid_auto_rows": null,
      "grid_column": null,
      "grid_gap": null,
      "grid_row": null,
      "grid_template_areas": null,
      "grid_template_columns": null,
      "grid_template_rows": null,
      "height": null,
      "justify_content": null,
      "justify_items": null,
      "left": null,
      "margin": null,
      "max_height": null,
      "max_width": null,
      "min_height": null,
      "min_width": null,
      "object_fit": null,
      "object_position": null,
      "order": null,
      "overflow": null,
      "overflow_x": null,
      "overflow_y": null,
      "padding": null,
      "right": null,
      "top": null,
      "visibility": null,
      "width": null
     }
    },
    "107ad4ef8290485587a2413b5cfed10d": {
     "model_module": "@jupyter-widgets/controls",
     "model_module_version": "1.5.0",
     "model_name": "DescriptionStyleModel",
     "state": {
      "_model_module": "@jupyter-widgets/controls",
      "_model_module_version": "1.5.0",
      "_model_name": "DescriptionStyleModel",
      "_view_count": null,
      "_view_module": "@jupyter-widgets/base",
      "_view_module_version": "1.2.0",
      "_view_name": "StyleView",
      "description_width": ""
     }
    },
    "13aa13da5ec84561abd8b5f92996812f": {
     "model_module": "@jupyter-widgets/base",
     "model_module_version": "1.2.0",
     "model_name": "LayoutModel",
     "state": {
      "_model_module": "@jupyter-widgets/base",
      "_model_module_version": "1.2.0",
      "_model_name": "LayoutModel",
      "_view_count": null,
      "_view_module": "@jupyter-widgets/base",
      "_view_module_version": "1.2.0",
      "_view_name": "LayoutView",
      "align_content": null,
      "align_items": null,
      "align_self": null,
      "border": null,
      "bottom": null,
      "display": null,
      "flex": null,
      "flex_flow": null,
      "grid_area": null,
      "grid_auto_columns": null,
      "grid_auto_flow": null,
      "grid_auto_rows": null,
      "grid_column": null,
      "grid_gap": null,
      "grid_row": null,
      "grid_template_areas": null,
      "grid_template_columns": null,
      "grid_template_rows": null,
      "height": null,
      "justify_content": null,
      "justify_items": null,
      "left": null,
      "margin": null,
      "max_height": null,
      "max_width": null,
      "min_height": null,
      "min_width": null,
      "object_fit": null,
      "object_position": null,
      "order": null,
      "overflow": null,
      "overflow_x": null,
      "overflow_y": null,
      "padding": null,
      "right": null,
      "top": null,
      "visibility": null,
      "width": null
     }
    },
    "154684f9fabf45ee867673a526c74408": {
     "model_module": "@jupyter-widgets/base",
     "model_module_version": "1.2.0",
     "model_name": "LayoutModel",
     "state": {
      "_model_module": "@jupyter-widgets/base",
      "_model_module_version": "1.2.0",
      "_model_name": "LayoutModel",
      "_view_count": null,
      "_view_module": "@jupyter-widgets/base",
      "_view_module_version": "1.2.0",
      "_view_name": "LayoutView",
      "align_content": null,
      "align_items": null,
      "align_self": null,
      "border": null,
      "bottom": null,
      "display": null,
      "flex": null,
      "flex_flow": null,
      "grid_area": null,
      "grid_auto_columns": null,
      "grid_auto_flow": null,
      "grid_auto_rows": null,
      "grid_column": null,
      "grid_gap": null,
      "grid_row": null,
      "grid_template_areas": null,
      "grid_template_columns": null,
      "grid_template_rows": null,
      "height": null,
      "justify_content": null,
      "justify_items": null,
      "left": null,
      "margin": null,
      "max_height": null,
      "max_width": null,
      "min_height": null,
      "min_width": null,
      "object_fit": null,
      "object_position": null,
      "order": null,
      "overflow": null,
      "overflow_x": null,
      "overflow_y": null,
      "padding": null,
      "right": null,
      "top": null,
      "visibility": null,
      "width": null
     }
    },
    "1c785ad40bc94809bdeaf06d27beeac2": {
     "model_module": "@jupyter-widgets/base",
     "model_module_version": "1.2.0",
     "model_name": "LayoutModel",
     "state": {
      "_model_module": "@jupyter-widgets/base",
      "_model_module_version": "1.2.0",
      "_model_name": "LayoutModel",
      "_view_count": null,
      "_view_module": "@jupyter-widgets/base",
      "_view_module_version": "1.2.0",
      "_view_name": "LayoutView",
      "align_content": null,
      "align_items": null,
      "align_self": null,
      "border": null,
      "bottom": null,
      "display": null,
      "flex": null,
      "flex_flow": null,
      "grid_area": null,
      "grid_auto_columns": null,
      "grid_auto_flow": null,
      "grid_auto_rows": null,
      "grid_column": null,
      "grid_gap": null,
      "grid_row": null,
      "grid_template_areas": null,
      "grid_template_columns": null,
      "grid_template_rows": null,
      "height": null,
      "justify_content": null,
      "justify_items": null,
      "left": null,
      "margin": null,
      "max_height": null,
      "max_width": null,
      "min_height": null,
      "min_width": null,
      "object_fit": null,
      "object_position": null,
      "order": null,
      "overflow": null,
      "overflow_x": null,
      "overflow_y": null,
      "padding": null,
      "right": null,
      "top": null,
      "visibility": null,
      "width": null
     }
    },
    "1e6fd309cced41549bc494d07c00a00c": {
     "model_module": "@jupyter-widgets/controls",
     "model_module_version": "1.5.0",
     "model_name": "ProgressStyleModel",
     "state": {
      "_model_module": "@jupyter-widgets/controls",
      "_model_module_version": "1.5.0",
      "_model_name": "ProgressStyleModel",
      "_view_count": null,
      "_view_module": "@jupyter-widgets/base",
      "_view_module_version": "1.2.0",
      "_view_name": "StyleView",
      "bar_color": null,
      "description_width": ""
     }
    },
    "22d20f34714e4567bc3607ae6ea8dad3": {
     "model_module": "@jupyter-widgets/controls",
     "model_module_version": "1.5.0",
     "model_name": "DescriptionStyleModel",
     "state": {
      "_model_module": "@jupyter-widgets/controls",
      "_model_module_version": "1.5.0",
      "_model_name": "DescriptionStyleModel",
      "_view_count": null,
      "_view_module": "@jupyter-widgets/base",
      "_view_module_version": "1.2.0",
      "_view_name": "StyleView",
      "description_width": ""
     }
    },
    "331402e9e7104538b2dfb780092e2beb": {
     "model_module": "@jupyter-widgets/controls",
     "model_module_version": "1.5.0",
     "model_name": "DescriptionStyleModel",
     "state": {
      "_model_module": "@jupyter-widgets/controls",
      "_model_module_version": "1.5.0",
      "_model_name": "DescriptionStyleModel",
      "_view_count": null,
      "_view_module": "@jupyter-widgets/base",
      "_view_module_version": "1.2.0",
      "_view_name": "StyleView",
      "description_width": ""
     }
    },
    "3b27aabd66174ecf99f9680ce1204c65": {
     "model_module": "@jupyter-widgets/controls",
     "model_module_version": "1.5.0",
     "model_name": "DescriptionStyleModel",
     "state": {
      "_model_module": "@jupyter-widgets/controls",
      "_model_module_version": "1.5.0",
      "_model_name": "DescriptionStyleModel",
      "_view_count": null,
      "_view_module": "@jupyter-widgets/base",
      "_view_module_version": "1.2.0",
      "_view_name": "StyleView",
      "description_width": ""
     }
    },
    "3c11bede28d14661910dd754ad1dd445": {
     "model_module": "@jupyter-widgets/controls",
     "model_module_version": "1.5.0",
     "model_name": "ProgressStyleModel",
     "state": {
      "_model_module": "@jupyter-widgets/controls",
      "_model_module_version": "1.5.0",
      "_model_name": "ProgressStyleModel",
      "_view_count": null,
      "_view_module": "@jupyter-widgets/base",
      "_view_module_version": "1.2.0",
      "_view_name": "StyleView",
      "bar_color": null,
      "description_width": ""
     }
    },
    "45bad43a020241a2868fcd72380d77fe": {
     "model_module": "@jupyter-widgets/controls",
     "model_module_version": "1.5.0",
     "model_name": "FloatProgressModel",
     "state": {
      "_dom_classes": [],
      "_model_module": "@jupyter-widgets/controls",
      "_model_module_version": "1.5.0",
      "_model_name": "FloatProgressModel",
      "_view_count": null,
      "_view_module": "@jupyter-widgets/controls",
      "_view_module_version": "1.5.0",
      "_view_name": "ProgressView",
      "bar_style": "success",
      "description": "",
      "description_tooltip": null,
      "layout": "IPY_MODEL_ae69481af42f40379915eb5f19d381cf",
      "max": 5090,
      "min": 0,
      "orientation": "horizontal",
      "style": "IPY_MODEL_9ff77e52998746f19039448eea382edf",
      "value": 5090
     }
    },
    "46925d32d98c4200b2421a6ab9bec525": {
     "model_module": "@jupyter-widgets/controls",
     "model_module_version": "1.5.0",
     "model_name": "HTMLModel",
     "state": {
      "_dom_classes": [],
      "_model_module": "@jupyter-widgets/controls",
      "_model_module_version": "1.5.0",
      "_model_name": "HTMLModel",
      "_view_count": null,
      "_view_module": "@jupyter-widgets/controls",
      "_view_module_version": "1.5.0",
      "_view_name": "HTMLView",
      "description": "",
      "description_tooltip": null,
      "layout": "IPY_MODEL_ba8cd40a44754d3191fcae8760f49ca8",
      "placeholder": "​",
      "style": "IPY_MODEL_f6eccfacb0ff4dbf9aa83b93b5b30410",
      "value": "Downloading data: 100%"
     }
    },
    "479a9751123a410299b8af3af414c049": {
     "model_module": "@jupyter-widgets/controls",
     "model_module_version": "1.5.0",
     "model_name": "ProgressStyleModel",
     "state": {
      "_model_module": "@jupyter-widgets/controls",
      "_model_module_version": "1.5.0",
      "_model_name": "ProgressStyleModel",
      "_view_count": null,
      "_view_module": "@jupyter-widgets/base",
      "_view_module_version": "1.2.0",
      "_view_name": "StyleView",
      "bar_color": null,
      "description_width": ""
     }
    },
    "4b3db5828d5247a6a49738b6f4078754": {
     "model_module": "@jupyter-widgets/base",
     "model_module_version": "1.2.0",
     "model_name": "LayoutModel",
     "state": {
      "_model_module": "@jupyter-widgets/base",
      "_model_module_version": "1.2.0",
      "_model_name": "LayoutModel",
      "_view_count": null,
      "_view_module": "@jupyter-widgets/base",
      "_view_module_version": "1.2.0",
      "_view_name": "LayoutView",
      "align_content": null,
      "align_items": null,
      "align_self": null,
      "border": null,
      "bottom": null,
      "display": null,
      "flex": null,
      "flex_flow": null,
      "grid_area": null,
      "grid_auto_columns": null,
      "grid_auto_flow": null,
      "grid_auto_rows": null,
      "grid_column": null,
      "grid_gap": null,
      "grid_row": null,
      "grid_template_areas": null,
      "grid_template_columns": null,
      "grid_template_rows": null,
      "height": null,
      "justify_content": null,
      "justify_items": null,
      "left": null,
      "margin": null,
      "max_height": null,
      "max_width": null,
      "min_height": null,
      "min_width": null,
      "object_fit": null,
      "object_position": null,
      "order": null,
      "overflow": null,
      "overflow_x": null,
      "overflow_y": null,
      "padding": null,
      "right": null,
      "top": null,
      "visibility": null,
      "width": null
     }
    },
    "4c4656fd7c53487bb649f7b27141164e": {
     "model_module": "@jupyter-widgets/controls",
     "model_module_version": "1.5.0",
     "model_name": "DescriptionStyleModel",
     "state": {
      "_model_module": "@jupyter-widgets/controls",
      "_model_module_version": "1.5.0",
      "_model_name": "DescriptionStyleModel",
      "_view_count": null,
      "_view_module": "@jupyter-widgets/base",
      "_view_module_version": "1.2.0",
      "_view_name": "StyleView",
      "description_width": ""
     }
    },
    "4e2547d55dfe453897e1123ca6bdc31a": {
     "model_module": "@jupyter-widgets/controls",
     "model_module_version": "1.5.0",
     "model_name": "DescriptionStyleModel",
     "state": {
      "_model_module": "@jupyter-widgets/controls",
      "_model_module_version": "1.5.0",
      "_model_name": "DescriptionStyleModel",
      "_view_count": null,
      "_view_module": "@jupyter-widgets/base",
      "_view_module_version": "1.2.0",
      "_view_name": "StyleView",
      "description_width": ""
     }
    },
    "5193ecc4782d4527bad6c26c183507fd": {
     "model_module": "@jupyter-widgets/controls",
     "model_module_version": "1.5.0",
     "model_name": "HBoxModel",
     "state": {
      "_dom_classes": [],
      "_model_module": "@jupyter-widgets/controls",
      "_model_module_version": "1.5.0",
      "_model_name": "HBoxModel",
      "_view_count": null,
      "_view_module": "@jupyter-widgets/controls",
      "_view_module_version": "1.5.0",
      "_view_name": "HBoxView",
      "box_style": "",
      "children": [
       "IPY_MODEL_948093e2e8274e03be20e94362d0b809",
       "IPY_MODEL_dac8b83f03124e2cabc042a9db6fc7a0",
       "IPY_MODEL_875537a5227648d39516fff5e021c722"
      ],
      "layout": "IPY_MODEL_b21f83dc0c9143e6999c7d8b6cc208ed"
     }
    },
    "56a321f818f64839a1b7d8ccb288a863": {
     "model_module": "@jupyter-widgets/controls",
     "model_module_version": "1.5.0",
     "model_name": "HBoxModel",
     "state": {
      "_dom_classes": [],
      "_model_module": "@jupyter-widgets/controls",
      "_model_module_version": "1.5.0",
      "_model_name": "HBoxModel",
      "_view_count": null,
      "_view_module": "@jupyter-widgets/controls",
      "_view_module_version": "1.5.0",
      "_view_name": "HBoxView",
      "box_style": "",
      "children": [
       "IPY_MODEL_46925d32d98c4200b2421a6ab9bec525",
       "IPY_MODEL_62984c18e43c45d69ea83aaba989f7fa",
       "IPY_MODEL_6da5a139d6724cdd96aeee9df010ade1"
      ],
      "layout": "IPY_MODEL_4b3db5828d5247a6a49738b6f4078754"
     }
    },
    "5c92afa02f2a4d9ab82947a418fde345": {
     "model_module": "@jupyter-widgets/controls",
     "model_module_version": "1.5.0",
     "model_name": "HTMLModel",
     "state": {
      "_dom_classes": [],
      "_model_module": "@jupyter-widgets/controls",
      "_model_module_version": "1.5.0",
      "_model_name": "HTMLModel",
      "_view_count": null,
      "_view_module": "@jupyter-widgets/controls",
      "_view_module_version": "1.5.0",
      "_view_name": "HTMLView",
      "description": "",
      "description_tooltip": null,
      "layout": "IPY_MODEL_c71b059f07d643db9efb8f267788cb21",
      "placeholder": "​",
      "style": "IPY_MODEL_8e684aa1d510457da63482bb1242770a",
      "value": "Generating test split: 100%"
     }
    },
    "5d6d948eed2c4ad9a3396674cd495e6d": {
     "model_module": "@jupyter-widgets/base",
     "model_module_version": "1.2.0",
     "model_name": "LayoutModel",
     "state": {
      "_model_module": "@jupyter-widgets/base",
      "_model_module_version": "1.2.0",
      "_model_name": "LayoutModel",
      "_view_count": null,
      "_view_module": "@jupyter-widgets/base",
      "_view_module_version": "1.2.0",
      "_view_name": "LayoutView",
      "align_content": null,
      "align_items": null,
      "align_self": null,
      "border": null,
      "bottom": null,
      "display": null,
      "flex": null,
      "flex_flow": null,
      "grid_area": null,
      "grid_auto_columns": null,
      "grid_auto_flow": null,
      "grid_auto_rows": null,
      "grid_column": null,
      "grid_gap": null,
      "grid_row": null,
      "grid_template_areas": null,
      "grid_template_columns": null,
      "grid_template_rows": null,
      "height": null,
      "justify_content": null,
      "justify_items": null,
      "left": null,
      "margin": null,
      "max_height": null,
      "max_width": null,
      "min_height": null,
      "min_width": null,
      "object_fit": null,
      "object_position": null,
      "order": null,
      "overflow": null,
      "overflow_x": null,
      "overflow_y": null,
      "padding": null,
      "right": null,
      "top": null,
      "visibility": null,
      "width": null
     }
    },
    "609134bbb5894af6b5c54e1a4b64d697": {
     "model_module": "@jupyter-widgets/base",
     "model_module_version": "1.2.0",
     "model_name": "LayoutModel",
     "state": {
      "_model_module": "@jupyter-widgets/base",
      "_model_module_version": "1.2.0",
      "_model_name": "LayoutModel",
      "_view_count": null,
      "_view_module": "@jupyter-widgets/base",
      "_view_module_version": "1.2.0",
      "_view_name": "LayoutView",
      "align_content": null,
      "align_items": null,
      "align_self": null,
      "border": null,
      "bottom": null,
      "display": null,
      "flex": null,
      "flex_flow": null,
      "grid_area": null,
      "grid_auto_columns": null,
      "grid_auto_flow": null,
      "grid_auto_rows": null,
      "grid_column": null,
      "grid_gap": null,
      "grid_row": null,
      "grid_template_areas": null,
      "grid_template_columns": null,
      "grid_template_rows": null,
      "height": null,
      "justify_content": null,
      "justify_items": null,
      "left": null,
      "margin": null,
      "max_height": null,
      "max_width": null,
      "min_height": null,
      "min_width": null,
      "object_fit": null,
      "object_position": null,
      "order": null,
      "overflow": null,
      "overflow_x": null,
      "overflow_y": null,
      "padding": null,
      "right": null,
      "top": null,
      "visibility": null,
      "width": null
     }
    },
    "62984c18e43c45d69ea83aaba989f7fa": {
     "model_module": "@jupyter-widgets/controls",
     "model_module_version": "1.5.0",
     "model_name": "FloatProgressModel",
     "state": {
      "_dom_classes": [],
      "_model_module": "@jupyter-widgets/controls",
      "_model_module_version": "1.5.0",
      "_model_name": "FloatProgressModel",
      "_view_count": null,
      "_view_module": "@jupyter-widgets/controls",
      "_view_module_version": "1.5.0",
      "_view_name": "ProgressView",
      "bar_style": "success",
      "description": "",
      "description_tooltip": null,
      "layout": "IPY_MODEL_154684f9fabf45ee867673a526c74408",
      "max": 335858,
      "min": 0,
      "orientation": "horizontal",
      "style": "IPY_MODEL_3c11bede28d14661910dd754ad1dd445",
      "value": 335858
     }
    },
    "6da5a139d6724cdd96aeee9df010ade1": {
     "model_module": "@jupyter-widgets/controls",
     "model_module_version": "1.5.0",
     "model_name": "HTMLModel",
     "state": {
      "_dom_classes": [],
      "_model_module": "@jupyter-widgets/controls",
      "_model_module_version": "1.5.0",
      "_model_name": "HTMLModel",
      "_view_count": null,
      "_view_module": "@jupyter-widgets/controls",
      "_view_module_version": "1.5.0",
      "_view_name": "HTMLView",
      "description": "",
      "description_tooltip": null,
      "layout": "IPY_MODEL_bbe0a150553c4b13b84979af10c2294c",
      "placeholder": "​",
      "style": "IPY_MODEL_e9c727a49ee84044ba9253fb1679d5de",
      "value": " 336k/336k [00:00&lt;00:00, 600kB/s]"
     }
    },
    "6f09b2c2a86740afade79eee20042efa": {
     "model_module": "@jupyter-widgets/controls",
     "model_module_version": "1.5.0",
     "model_name": "HTMLModel",
     "state": {
      "_dom_classes": [],
      "_model_module": "@jupyter-widgets/controls",
      "_model_module_version": "1.5.0",
      "_model_name": "HTMLModel",
      "_view_count": null,
      "_view_module": "@jupyter-widgets/controls",
      "_view_module_version": "1.5.0",
      "_view_name": "HTMLView",
      "description": "",
      "description_tooltip": null,
      "layout": "IPY_MODEL_1c785ad40bc94809bdeaf06d27beeac2",
      "placeholder": "​",
      "style": "IPY_MODEL_331402e9e7104538b2dfb780092e2beb",
      "value": "Downloading builder script: 100%"
     }
    },
    "7204d7eb51834b6399cd8954c5739378": {
     "model_module": "@jupyter-widgets/controls",
     "model_module_version": "1.5.0",
     "model_name": "HTMLModel",
     "state": {
      "_dom_classes": [],
      "_model_module": "@jupyter-widgets/controls",
      "_model_module_version": "1.5.0",
      "_model_name": "HTMLModel",
      "_view_count": null,
      "_view_module": "@jupyter-widgets/controls",
      "_view_module_version": "1.5.0",
      "_view_name": "HTMLView",
      "description": "",
      "description_tooltip": null,
      "layout": "IPY_MODEL_b21bdba30229404c85b0fe3411d7b22f",
      "placeholder": "​",
      "style": "IPY_MODEL_3b27aabd66174ecf99f9680ce1204c65",
      "value": "Generating train split: 100%"
     }
    },
    "875537a5227648d39516fff5e021c722": {
     "model_module": "@jupyter-widgets/controls",
     "model_module_version": "1.5.0",
     "model_name": "HTMLModel",
     "state": {
      "_dom_classes": [],
      "_model_module": "@jupyter-widgets/controls",
      "_model_module_version": "1.5.0",
      "_model_name": "HTMLModel",
      "_view_count": null,
      "_view_module": "@jupyter-widgets/controls",
      "_view_module_version": "1.5.0",
      "_view_name": "HTMLView",
      "description": "",
      "description_tooltip": null,
      "layout": "IPY_MODEL_609134bbb5894af6b5c54e1a4b64d697",
      "placeholder": "​",
      "style": "IPY_MODEL_22d20f34714e4567bc3607ae6ea8dad3",
      "value": " 10.6k/10.6k [00:00&lt;00:00, 52.0kB/s]"
     }
    },
    "8b286594432245b2b1a250f41b6eb223": {
     "model_module": "@jupyter-widgets/base",
     "model_module_version": "1.2.0",
     "model_name": "LayoutModel",
     "state": {
      "_model_module": "@jupyter-widgets/base",
      "_model_module_version": "1.2.0",
      "_model_name": "LayoutModel",
      "_view_count": null,
      "_view_module": "@jupyter-widgets/base",
      "_view_module_version": "1.2.0",
      "_view_name": "LayoutView",
      "align_content": null,
      "align_items": null,
      "align_self": null,
      "border": null,
      "bottom": null,
      "display": null,
      "flex": null,
      "flex_flow": null,
      "grid_area": null,
      "grid_auto_columns": null,
      "grid_auto_flow": null,
      "grid_auto_rows": null,
      "grid_column": null,
      "grid_gap": null,
      "grid_row": null,
      "grid_template_areas": null,
      "grid_template_columns": null,
      "grid_template_rows": null,
      "height": null,
      "justify_content": null,
      "justify_items": null,
      "left": null,
      "margin": null,
      "max_height": null,
      "max_width": null,
      "min_height": null,
      "min_width": null,
      "object_fit": null,
      "object_position": null,
      "order": null,
      "overflow": null,
      "overflow_x": null,
      "overflow_y": null,
      "padding": null,
      "right": null,
      "top": null,
      "visibility": null,
      "width": null
     }
    },
    "8e684aa1d510457da63482bb1242770a": {
     "model_module": "@jupyter-widgets/controls",
     "model_module_version": "1.5.0",
     "model_name": "DescriptionStyleModel",
     "state": {
      "_model_module": "@jupyter-widgets/controls",
      "_model_module_version": "1.5.0",
      "_model_name": "DescriptionStyleModel",
      "_view_count": null,
      "_view_module": "@jupyter-widgets/base",
      "_view_module_version": "1.2.0",
      "_view_name": "StyleView",
      "description_width": ""
     }
    },
    "906cae58eca848af9dcf4ef3eb12c861": {
     "model_module": "@jupyter-widgets/controls",
     "model_module_version": "1.5.0",
     "model_name": "HBoxModel",
     "state": {
      "_dom_classes": [],
      "_model_module": "@jupyter-widgets/controls",
      "_model_module_version": "1.5.0",
      "_model_name": "HBoxModel",
      "_view_count": null,
      "_view_module": "@jupyter-widgets/controls",
      "_view_module_version": "1.5.0",
      "_view_name": "HBoxView",
      "box_style": "",
      "children": [
       "IPY_MODEL_7204d7eb51834b6399cd8954c5739378",
       "IPY_MODEL_f8c95744263e43a987c5d60bc97fb710",
       "IPY_MODEL_97ad0fbd29784775a398f67e80b71eb0"
      ],
      "layout": "IPY_MODEL_13aa13da5ec84561abd8b5f92996812f"
     }
    },
    "94191d41fc2444dfbefc264be61e5fcd": {
     "model_module": "@jupyter-widgets/controls",
     "model_module_version": "1.5.0",
     "model_name": "FloatProgressModel",
     "state": {
      "_dom_classes": [],
      "_model_module": "@jupyter-widgets/controls",
      "_model_module_version": "1.5.0",
      "_model_name": "FloatProgressModel",
      "_view_count": null,
      "_view_module": "@jupyter-widgets/controls",
      "_view_module_version": "1.5.0",
      "_view_name": "ProgressView",
      "bar_style": "success",
      "description": "",
      "description_tooltip": null,
      "layout": "IPY_MODEL_fd0bb9f58a3941c19d11a6ea90d1daf2",
      "max": 23354,
      "min": 0,
      "orientation": "horizontal",
      "style": "IPY_MODEL_d8836e2a344a47b6872f5a7541ea5356",
      "value": 23354
     }
    },
    "9464704df81545ec95d186039fbe4c42": {
     "model_module": "@jupyter-widgets/controls",
     "model_module_version": "1.5.0",
     "model_name": "HTMLModel",
     "state": {
      "_dom_classes": [],
      "_model_module": "@jupyter-widgets/controls",
      "_model_module_version": "1.5.0",
      "_model_name": "HTMLModel",
      "_view_count": null,
      "_view_module": "@jupyter-widgets/controls",
      "_view_module_version": "1.5.0",
      "_view_name": "HTMLView",
      "description": "",
      "description_tooltip": null,
      "layout": "IPY_MODEL_022d04b681384badb252b7c859d24310",
      "placeholder": "​",
      "style": "IPY_MODEL_c6a331bcb6e74c6b963a987699f43f1f",
      "value": " 500/500 [00:00&lt;00:00, 6052.63 examples/s]"
     }
    },
    "948093e2e8274e03be20e94362d0b809": {
     "model_module": "@jupyter-widgets/controls",
     "model_module_version": "1.5.0",
     "model_name": "HTMLModel",
     "state": {
      "_dom_classes": [],
      "_model_module": "@jupyter-widgets/controls",
      "_model_module_version": "1.5.0",
      "_model_name": "HTMLModel",
      "_view_count": null,
      "_view_module": "@jupyter-widgets/controls",
      "_view_module_version": "1.5.0",
      "_view_name": "HTMLView",
      "description": "",
      "description_tooltip": null,
      "layout": "IPY_MODEL_5d6d948eed2c4ad9a3396674cd495e6d",
      "placeholder": "​",
      "style": "IPY_MODEL_950a717737c848ea93df247a37d1c9c6",
      "value": "Downloading readme: 100%"
     }
    },
    "950a717737c848ea93df247a37d1c9c6": {
     "model_module": "@jupyter-widgets/controls",
     "model_module_version": "1.5.0",
     "model_name": "DescriptionStyleModel",
     "state": {
      "_model_module": "@jupyter-widgets/controls",
      "_model_module_version": "1.5.0",
      "_model_name": "DescriptionStyleModel",
      "_view_count": null,
      "_view_module": "@jupyter-widgets/base",
      "_view_module_version": "1.2.0",
      "_view_name": "StyleView",
      "description_width": ""
     }
    },
    "97ad0fbd29784775a398f67e80b71eb0": {
     "model_module": "@jupyter-widgets/controls",
     "model_module_version": "1.5.0",
     "model_name": "HTMLModel",
     "state": {
      "_dom_classes": [],
      "_model_module": "@jupyter-widgets/controls",
      "_model_module_version": "1.5.0",
      "_model_name": "HTMLModel",
      "_view_count": null,
      "_view_module": "@jupyter-widgets/controls",
      "_view_module_version": "1.5.0",
      "_view_name": "HTMLView",
      "description": "",
      "description_tooltip": null,
      "layout": "IPY_MODEL_048d9cfba04e4413953b15cdd1ce15ef",
      "placeholder": "​",
      "style": "IPY_MODEL_def9298c053c4cabadd0751c390d9e21",
      "value": " 5452/5452 [00:00&lt;00:00, 13283.32 examples/s]"
     }
    },
    "99509a9cd3624056848b25c351ed3d64": {
     "model_module": "@jupyter-widgets/controls",
     "model_module_version": "1.5.0",
     "model_name": "HBoxModel",
     "state": {
      "_dom_classes": [],
      "_model_module": "@jupyter-widgets/controls",
      "_model_module_version": "1.5.0",
      "_model_name": "HBoxModel",
      "_view_count": null,
      "_view_module": "@jupyter-widgets/controls",
      "_view_module_version": "1.5.0",
      "_view_name": "HBoxView",
      "box_style": "",
      "children": [
       "IPY_MODEL_c2b5640ca95442fd85dc8646438dc06d",
       "IPY_MODEL_94191d41fc2444dfbefc264be61e5fcd",
       "IPY_MODEL_ff77b54fad0e4af6b78132713116aa78"
      ],
      "layout": "IPY_MODEL_f1ca9e6c48a942d8a95b0bd5c0bb68cf"
     }
    },
    "997f48ad2a6e476093cdda76be2a8d7e": {
     "model_module": "@jupyter-widgets/controls",
     "model_module_version": "1.5.0",
     "model_name": "FloatProgressModel",
     "state": {
      "_dom_classes": [],
      "_model_module": "@jupyter-widgets/controls",
      "_model_module_version": "1.5.0",
      "_model_name": "FloatProgressModel",
      "_view_count": null,
      "_view_module": "@jupyter-widgets/controls",
      "_view_module_version": "1.5.0",
      "_view_name": "ProgressView",
      "bar_style": "success",
      "description": "",
      "description_tooltip": null,
      "layout": "IPY_MODEL_e133d7c833a04a928784c46d64930a8f",
      "max": 500,
      "min": 0,
      "orientation": "horizontal",
      "style": "IPY_MODEL_479a9751123a410299b8af3af414c049",
      "value": 500
     }
    },
    "9ff77e52998746f19039448eea382edf": {
     "model_module": "@jupyter-widgets/controls",
     "model_module_version": "1.5.0",
     "model_name": "ProgressStyleModel",
     "state": {
      "_model_module": "@jupyter-widgets/controls",
      "_model_module_version": "1.5.0",
      "_model_name": "ProgressStyleModel",
      "_view_count": null,
      "_view_module": "@jupyter-widgets/base",
      "_view_module_version": "1.2.0",
      "_view_name": "StyleView",
      "bar_color": null,
      "description_width": ""
     }
    },
    "ae48cfb4eaba47d391317b7280c41fde": {
     "model_module": "@jupyter-widgets/controls",
     "model_module_version": "1.5.0",
     "model_name": "HBoxModel",
     "state": {
      "_dom_classes": [],
      "_model_module": "@jupyter-widgets/controls",
      "_model_module_version": "1.5.0",
      "_model_name": "HBoxModel",
      "_view_count": null,
      "_view_module": "@jupyter-widgets/controls",
      "_view_module_version": "1.5.0",
      "_view_name": "HBoxView",
      "box_style": "",
      "children": [
       "IPY_MODEL_5c92afa02f2a4d9ab82947a418fde345",
       "IPY_MODEL_997f48ad2a6e476093cdda76be2a8d7e",
       "IPY_MODEL_9464704df81545ec95d186039fbe4c42"
      ],
      "layout": "IPY_MODEL_e2d8cfa6e68949dc816b7207723edebb"
     }
    },
    "ae69481af42f40379915eb5f19d381cf": {
     "model_module": "@jupyter-widgets/base",
     "model_module_version": "1.2.0",
     "model_name": "LayoutModel",
     "state": {
      "_model_module": "@jupyter-widgets/base",
      "_model_module_version": "1.2.0",
      "_model_name": "LayoutModel",
      "_view_count": null,
      "_view_module": "@jupyter-widgets/base",
      "_view_module_version": "1.2.0",
      "_view_name": "LayoutView",
      "align_content": null,
      "align_items": null,
      "align_self": null,
      "border": null,
      "bottom": null,
      "display": null,
      "flex": null,
      "flex_flow": null,
      "grid_area": null,
      "grid_auto_columns": null,
      "grid_auto_flow": null,
      "grid_auto_rows": null,
      "grid_column": null,
      "grid_gap": null,
      "grid_row": null,
      "grid_template_areas": null,
      "grid_template_columns": null,
      "grid_template_rows": null,
      "height": null,
      "justify_content": null,
      "justify_items": null,
      "left": null,
      "margin": null,
      "max_height": null,
      "max_width": null,
      "min_height": null,
      "min_width": null,
      "object_fit": null,
      "object_position": null,
      "order": null,
      "overflow": null,
      "overflow_x": null,
      "overflow_y": null,
      "padding": null,
      "right": null,
      "top": null,
      "visibility": null,
      "width": null
     }
    },
    "b21bdba30229404c85b0fe3411d7b22f": {
     "model_module": "@jupyter-widgets/base",
     "model_module_version": "1.2.0",
     "model_name": "LayoutModel",
     "state": {
      "_model_module": "@jupyter-widgets/base",
      "_model_module_version": "1.2.0",
      "_model_name": "LayoutModel",
      "_view_count": null,
      "_view_module": "@jupyter-widgets/base",
      "_view_module_version": "1.2.0",
      "_view_name": "LayoutView",
      "align_content": null,
      "align_items": null,
      "align_self": null,
      "border": null,
      "bottom": null,
      "display": null,
      "flex": null,
      "flex_flow": null,
      "grid_area": null,
      "grid_auto_columns": null,
      "grid_auto_flow": null,
      "grid_auto_rows": null,
      "grid_column": null,
      "grid_gap": null,
      "grid_row": null,
      "grid_template_areas": null,
      "grid_template_columns": null,
      "grid_template_rows": null,
      "height": null,
      "justify_content": null,
      "justify_items": null,
      "left": null,
      "margin": null,
      "max_height": null,
      "max_width": null,
      "min_height": null,
      "min_width": null,
      "object_fit": null,
      "object_position": null,
      "order": null,
      "overflow": null,
      "overflow_x": null,
      "overflow_y": null,
      "padding": null,
      "right": null,
      "top": null,
      "visibility": null,
      "width": null
     }
    },
    "b21f83dc0c9143e6999c7d8b6cc208ed": {
     "model_module": "@jupyter-widgets/base",
     "model_module_version": "1.2.0",
     "model_name": "LayoutModel",
     "state": {
      "_model_module": "@jupyter-widgets/base",
      "_model_module_version": "1.2.0",
      "_model_name": "LayoutModel",
      "_view_count": null,
      "_view_module": "@jupyter-widgets/base",
      "_view_module_version": "1.2.0",
      "_view_name": "LayoutView",
      "align_content": null,
      "align_items": null,
      "align_self": null,
      "border": null,
      "bottom": null,
      "display": null,
      "flex": null,
      "flex_flow": null,
      "grid_area": null,
      "grid_auto_columns": null,
      "grid_auto_flow": null,
      "grid_auto_rows": null,
      "grid_column": null,
      "grid_gap": null,
      "grid_row": null,
      "grid_template_areas": null,
      "grid_template_columns": null,
      "grid_template_rows": null,
      "height": null,
      "justify_content": null,
      "justify_items": null,
      "left": null,
      "margin": null,
      "max_height": null,
      "max_width": null,
      "min_height": null,
      "min_width": null,
      "object_fit": null,
      "object_position": null,
      "order": null,
      "overflow": null,
      "overflow_x": null,
      "overflow_y": null,
      "padding": null,
      "right": null,
      "top": null,
      "visibility": null,
      "width": null
     }
    },
    "b8376aa1a1ac4d4794c08e983af11c7c": {
     "model_module": "@jupyter-widgets/base",
     "model_module_version": "1.2.0",
     "model_name": "LayoutModel",
     "state": {
      "_model_module": "@jupyter-widgets/base",
      "_model_module_version": "1.2.0",
      "_model_name": "LayoutModel",
      "_view_count": null,
      "_view_module": "@jupyter-widgets/base",
      "_view_module_version": "1.2.0",
      "_view_name": "LayoutView",
      "align_content": null,
      "align_items": null,
      "align_self": null,
      "border": null,
      "bottom": null,
      "display": null,
      "flex": null,
      "flex_flow": null,
      "grid_area": null,
      "grid_auto_columns": null,
      "grid_auto_flow": null,
      "grid_auto_rows": null,
      "grid_column": null,
      "grid_gap": null,
      "grid_row": null,
      "grid_template_areas": null,
      "grid_template_columns": null,
      "grid_template_rows": null,
      "height": null,
      "justify_content": null,
      "justify_items": null,
      "left": null,
      "margin": null,
      "max_height": null,
      "max_width": null,
      "min_height": null,
      "min_width": null,
      "object_fit": null,
      "object_position": null,
      "order": null,
      "overflow": null,
      "overflow_x": null,
      "overflow_y": null,
      "padding": null,
      "right": null,
      "top": null,
      "visibility": null,
      "width": null
     }
    },
    "ba8cd40a44754d3191fcae8760f49ca8": {
     "model_module": "@jupyter-widgets/base",
     "model_module_version": "1.2.0",
     "model_name": "LayoutModel",
     "state": {
      "_model_module": "@jupyter-widgets/base",
      "_model_module_version": "1.2.0",
      "_model_name": "LayoutModel",
      "_view_count": null,
      "_view_module": "@jupyter-widgets/base",
      "_view_module_version": "1.2.0",
      "_view_name": "LayoutView",
      "align_content": null,
      "align_items": null,
      "align_self": null,
      "border": null,
      "bottom": null,
      "display": null,
      "flex": null,
      "flex_flow": null,
      "grid_area": null,
      "grid_auto_columns": null,
      "grid_auto_flow": null,
      "grid_auto_rows": null,
      "grid_column": null,
      "grid_gap": null,
      "grid_row": null,
      "grid_template_areas": null,
      "grid_template_columns": null,
      "grid_template_rows": null,
      "height": null,
      "justify_content": null,
      "justify_items": null,
      "left": null,
      "margin": null,
      "max_height": null,
      "max_width": null,
      "min_height": null,
      "min_width": null,
      "object_fit": null,
      "object_position": null,
      "order": null,
      "overflow": null,
      "overflow_x": null,
      "overflow_y": null,
      "padding": null,
      "right": null,
      "top": null,
      "visibility": null,
      "width": null
     }
    },
    "bbe0a150553c4b13b84979af10c2294c": {
     "model_module": "@jupyter-widgets/base",
     "model_module_version": "1.2.0",
     "model_name": "LayoutModel",
     "state": {
      "_model_module": "@jupyter-widgets/base",
      "_model_module_version": "1.2.0",
      "_model_name": "LayoutModel",
      "_view_count": null,
      "_view_module": "@jupyter-widgets/base",
      "_view_module_version": "1.2.0",
      "_view_name": "LayoutView",
      "align_content": null,
      "align_items": null,
      "align_self": null,
      "border": null,
      "bottom": null,
      "display": null,
      "flex": null,
      "flex_flow": null,
      "grid_area": null,
      "grid_auto_columns": null,
      "grid_auto_flow": null,
      "grid_auto_rows": null,
      "grid_column": null,
      "grid_gap": null,
      "grid_row": null,
      "grid_template_areas": null,
      "grid_template_columns": null,
      "grid_template_rows": null,
      "height": null,
      "justify_content": null,
      "justify_items": null,
      "left": null,
      "margin": null,
      "max_height": null,
      "max_width": null,
      "min_height": null,
      "min_width": null,
      "object_fit": null,
      "object_position": null,
      "order": null,
      "overflow": null,
      "overflow_x": null,
      "overflow_y": null,
      "padding": null,
      "right": null,
      "top": null,
      "visibility": null,
      "width": null
     }
    },
    "c2b5640ca95442fd85dc8646438dc06d": {
     "model_module": "@jupyter-widgets/controls",
     "model_module_version": "1.5.0",
     "model_name": "HTMLModel",
     "state": {
      "_dom_classes": [],
      "_model_module": "@jupyter-widgets/controls",
      "_model_module_version": "1.5.0",
      "_model_name": "HTMLModel",
      "_view_count": null,
      "_view_module": "@jupyter-widgets/controls",
      "_view_module_version": "1.5.0",
      "_view_name": "HTMLView",
      "description": "",
      "description_tooltip": null,
      "layout": "IPY_MODEL_d7a5718a477943309060b84769e7aea3",
      "placeholder": "​",
      "style": "IPY_MODEL_4e2547d55dfe453897e1123ca6bdc31a",
      "value": "Downloading data: 100%"
     }
    },
    "c6a331bcb6e74c6b963a987699f43f1f": {
     "model_module": "@jupyter-widgets/controls",
     "model_module_version": "1.5.0",
     "model_name": "DescriptionStyleModel",
     "state": {
      "_model_module": "@jupyter-widgets/controls",
      "_model_module_version": "1.5.0",
      "_model_name": "DescriptionStyleModel",
      "_view_count": null,
      "_view_module": "@jupyter-widgets/base",
      "_view_module_version": "1.2.0",
      "_view_name": "StyleView",
      "description_width": ""
     }
    },
    "c71b059f07d643db9efb8f267788cb21": {
     "model_module": "@jupyter-widgets/base",
     "model_module_version": "1.2.0",
     "model_name": "LayoutModel",
     "state": {
      "_model_module": "@jupyter-widgets/base",
      "_model_module_version": "1.2.0",
      "_model_name": "LayoutModel",
      "_view_count": null,
      "_view_module": "@jupyter-widgets/base",
      "_view_module_version": "1.2.0",
      "_view_name": "LayoutView",
      "align_content": null,
      "align_items": null,
      "align_self": null,
      "border": null,
      "bottom": null,
      "display": null,
      "flex": null,
      "flex_flow": null,
      "grid_area": null,
      "grid_auto_columns": null,
      "grid_auto_flow": null,
      "grid_auto_rows": null,
      "grid_column": null,
      "grid_gap": null,
      "grid_row": null,
      "grid_template_areas": null,
      "grid_template_columns": null,
      "grid_template_rows": null,
      "height": null,
      "justify_content": null,
      "justify_items": null,
      "left": null,
      "margin": null,
      "max_height": null,
      "max_width": null,
      "min_height": null,
      "min_width": null,
      "object_fit": null,
      "object_position": null,
      "order": null,
      "overflow": null,
      "overflow_x": null,
      "overflow_y": null,
      "padding": null,
      "right": null,
      "top": null,
      "visibility": null,
      "width": null
     }
    },
    "c8025a3f23c0499fa3c9879880046882": {
     "model_module": "@jupyter-widgets/controls",
     "model_module_version": "1.5.0",
     "model_name": "HBoxModel",
     "state": {
      "_dom_classes": [],
      "_model_module": "@jupyter-widgets/controls",
      "_model_module_version": "1.5.0",
      "_model_name": "HBoxModel",
      "_view_count": null,
      "_view_module": "@jupyter-widgets/controls",
      "_view_module_version": "1.5.0",
      "_view_name": "HBoxView",
      "box_style": "",
      "children": [
       "IPY_MODEL_6f09b2c2a86740afade79eee20042efa",
       "IPY_MODEL_45bad43a020241a2868fcd72380d77fe",
       "IPY_MODEL_cf134e90456b4b74993d095f492e2b95"
      ],
      "layout": "IPY_MODEL_ea35744ef01944c4bacd88c30df6f7f0"
     }
    },
    "cf134e90456b4b74993d095f492e2b95": {
     "model_module": "@jupyter-widgets/controls",
     "model_module_version": "1.5.0",
     "model_name": "HTMLModel",
     "state": {
      "_dom_classes": [],
      "_model_module": "@jupyter-widgets/controls",
      "_model_module_version": "1.5.0",
      "_model_name": "HTMLModel",
      "_view_count": null,
      "_view_module": "@jupyter-widgets/controls",
      "_view_module_version": "1.5.0",
      "_view_name": "HTMLView",
      "description": "",
      "description_tooltip": null,
      "layout": "IPY_MODEL_e4edcfc0b3c54531abd8fce4d8b816da",
      "placeholder": "​",
      "style": "IPY_MODEL_107ad4ef8290485587a2413b5cfed10d",
      "value": " 5.09k/5.09k [00:00&lt;00:00, 25.8kB/s]"
     }
    },
    "d7a5718a477943309060b84769e7aea3": {
     "model_module": "@jupyter-widgets/base",
     "model_module_version": "1.2.0",
     "model_name": "LayoutModel",
     "state": {
      "_model_module": "@jupyter-widgets/base",
      "_model_module_version": "1.2.0",
      "_model_name": "LayoutModel",
      "_view_count": null,
      "_view_module": "@jupyter-widgets/base",
      "_view_module_version": "1.2.0",
      "_view_name": "LayoutView",
      "align_content": null,
      "align_items": null,
      "align_self": null,
      "border": null,
      "bottom": null,
      "display": null,
      "flex": null,
      "flex_flow": null,
      "grid_area": null,
      "grid_auto_columns": null,
      "grid_auto_flow": null,
      "grid_auto_rows": null,
      "grid_column": null,
      "grid_gap": null,
      "grid_row": null,
      "grid_template_areas": null,
      "grid_template_columns": null,
      "grid_template_rows": null,
      "height": null,
      "justify_content": null,
      "justify_items": null,
      "left": null,
      "margin": null,
      "max_height": null,
      "max_width": null,
      "min_height": null,
      "min_width": null,
      "object_fit": null,
      "object_position": null,
      "order": null,
      "overflow": null,
      "overflow_x": null,
      "overflow_y": null,
      "padding": null,
      "right": null,
      "top": null,
      "visibility": null,
      "width": null
     }
    },
    "d8836e2a344a47b6872f5a7541ea5356": {
     "model_module": "@jupyter-widgets/controls",
     "model_module_version": "1.5.0",
     "model_name": "ProgressStyleModel",
     "state": {
      "_model_module": "@jupyter-widgets/controls",
      "_model_module_version": "1.5.0",
      "_model_name": "ProgressStyleModel",
      "_view_count": null,
      "_view_module": "@jupyter-widgets/base",
      "_view_module_version": "1.2.0",
      "_view_name": "StyleView",
      "bar_color": null,
      "description_width": ""
     }
    },
    "dac8b83f03124e2cabc042a9db6fc7a0": {
     "model_module": "@jupyter-widgets/controls",
     "model_module_version": "1.5.0",
     "model_name": "FloatProgressModel",
     "state": {
      "_dom_classes": [],
      "_model_module": "@jupyter-widgets/controls",
      "_model_module_version": "1.5.0",
      "_model_name": "FloatProgressModel",
      "_view_count": null,
      "_view_module": "@jupyter-widgets/controls",
      "_view_module_version": "1.5.0",
      "_view_name": "ProgressView",
      "bar_style": "success",
      "description": "",
      "description_tooltip": null,
      "layout": "IPY_MODEL_8b286594432245b2b1a250f41b6eb223",
      "max": 10630,
      "min": 0,
      "orientation": "horizontal",
      "style": "IPY_MODEL_1e6fd309cced41549bc494d07c00a00c",
      "value": 10630
     }
    },
    "dc768beb616847b9a1a704b1ea0712fe": {
     "model_module": "@jupyter-widgets/controls",
     "model_module_version": "1.5.0",
     "model_name": "ProgressStyleModel",
     "state": {
      "_model_module": "@jupyter-widgets/controls",
      "_model_module_version": "1.5.0",
      "_model_name": "ProgressStyleModel",
      "_view_count": null,
      "_view_module": "@jupyter-widgets/base",
      "_view_module_version": "1.2.0",
      "_view_name": "StyleView",
      "bar_color": null,
      "description_width": ""
     }
    },
    "def9298c053c4cabadd0751c390d9e21": {
     "model_module": "@jupyter-widgets/controls",
     "model_module_version": "1.5.0",
     "model_name": "DescriptionStyleModel",
     "state": {
      "_model_module": "@jupyter-widgets/controls",
      "_model_module_version": "1.5.0",
      "_model_name": "DescriptionStyleModel",
      "_view_count": null,
      "_view_module": "@jupyter-widgets/base",
      "_view_module_version": "1.2.0",
      "_view_name": "StyleView",
      "description_width": ""
     }
    },
    "e133d7c833a04a928784c46d64930a8f": {
     "model_module": "@jupyter-widgets/base",
     "model_module_version": "1.2.0",
     "model_name": "LayoutModel",
     "state": {
      "_model_module": "@jupyter-widgets/base",
      "_model_module_version": "1.2.0",
      "_model_name": "LayoutModel",
      "_view_count": null,
      "_view_module": "@jupyter-widgets/base",
      "_view_module_version": "1.2.0",
      "_view_name": "LayoutView",
      "align_content": null,
      "align_items": null,
      "align_self": null,
      "border": null,
      "bottom": null,
      "display": null,
      "flex": null,
      "flex_flow": null,
      "grid_area": null,
      "grid_auto_columns": null,
      "grid_auto_flow": null,
      "grid_auto_rows": null,
      "grid_column": null,
      "grid_gap": null,
      "grid_row": null,
      "grid_template_areas": null,
      "grid_template_columns": null,
      "grid_template_rows": null,
      "height": null,
      "justify_content": null,
      "justify_items": null,
      "left": null,
      "margin": null,
      "max_height": null,
      "max_width": null,
      "min_height": null,
      "min_width": null,
      "object_fit": null,
      "object_position": null,
      "order": null,
      "overflow": null,
      "overflow_x": null,
      "overflow_y": null,
      "padding": null,
      "right": null,
      "top": null,
      "visibility": null,
      "width": null
     }
    },
    "e2d8cfa6e68949dc816b7207723edebb": {
     "model_module": "@jupyter-widgets/base",
     "model_module_version": "1.2.0",
     "model_name": "LayoutModel",
     "state": {
      "_model_module": "@jupyter-widgets/base",
      "_model_module_version": "1.2.0",
      "_model_name": "LayoutModel",
      "_view_count": null,
      "_view_module": "@jupyter-widgets/base",
      "_view_module_version": "1.2.0",
      "_view_name": "LayoutView",
      "align_content": null,
      "align_items": null,
      "align_self": null,
      "border": null,
      "bottom": null,
      "display": null,
      "flex": null,
      "flex_flow": null,
      "grid_area": null,
      "grid_auto_columns": null,
      "grid_auto_flow": null,
      "grid_auto_rows": null,
      "grid_column": null,
      "grid_gap": null,
      "grid_row": null,
      "grid_template_areas": null,
      "grid_template_columns": null,
      "grid_template_rows": null,
      "height": null,
      "justify_content": null,
      "justify_items": null,
      "left": null,
      "margin": null,
      "max_height": null,
      "max_width": null,
      "min_height": null,
      "min_width": null,
      "object_fit": null,
      "object_position": null,
      "order": null,
      "overflow": null,
      "overflow_x": null,
      "overflow_y": null,
      "padding": null,
      "right": null,
      "top": null,
      "visibility": null,
      "width": null
     }
    },
    "e4edcfc0b3c54531abd8fce4d8b816da": {
     "model_module": "@jupyter-widgets/base",
     "model_module_version": "1.2.0",
     "model_name": "LayoutModel",
     "state": {
      "_model_module": "@jupyter-widgets/base",
      "_model_module_version": "1.2.0",
      "_model_name": "LayoutModel",
      "_view_count": null,
      "_view_module": "@jupyter-widgets/base",
      "_view_module_version": "1.2.0",
      "_view_name": "LayoutView",
      "align_content": null,
      "align_items": null,
      "align_self": null,
      "border": null,
      "bottom": null,
      "display": null,
      "flex": null,
      "flex_flow": null,
      "grid_area": null,
      "grid_auto_columns": null,
      "grid_auto_flow": null,
      "grid_auto_rows": null,
      "grid_column": null,
      "grid_gap": null,
      "grid_row": null,
      "grid_template_areas": null,
      "grid_template_columns": null,
      "grid_template_rows": null,
      "height": null,
      "justify_content": null,
      "justify_items": null,
      "left": null,
      "margin": null,
      "max_height": null,
      "max_width": null,
      "min_height": null,
      "min_width": null,
      "object_fit": null,
      "object_position": null,
      "order": null,
      "overflow": null,
      "overflow_x": null,
      "overflow_y": null,
      "padding": null,
      "right": null,
      "top": null,
      "visibility": null,
      "width": null
     }
    },
    "e9c727a49ee84044ba9253fb1679d5de": {
     "model_module": "@jupyter-widgets/controls",
     "model_module_version": "1.5.0",
     "model_name": "DescriptionStyleModel",
     "state": {
      "_model_module": "@jupyter-widgets/controls",
      "_model_module_version": "1.5.0",
      "_model_name": "DescriptionStyleModel",
      "_view_count": null,
      "_view_module": "@jupyter-widgets/base",
      "_view_module_version": "1.2.0",
      "_view_name": "StyleView",
      "description_width": ""
     }
    },
    "ea35744ef01944c4bacd88c30df6f7f0": {
     "model_module": "@jupyter-widgets/base",
     "model_module_version": "1.2.0",
     "model_name": "LayoutModel",
     "state": {
      "_model_module": "@jupyter-widgets/base",
      "_model_module_version": "1.2.0",
      "_model_name": "LayoutModel",
      "_view_count": null,
      "_view_module": "@jupyter-widgets/base",
      "_view_module_version": "1.2.0",
      "_view_name": "LayoutView",
      "align_content": null,
      "align_items": null,
      "align_self": null,
      "border": null,
      "bottom": null,
      "display": null,
      "flex": null,
      "flex_flow": null,
      "grid_area": null,
      "grid_auto_columns": null,
      "grid_auto_flow": null,
      "grid_auto_rows": null,
      "grid_column": null,
      "grid_gap": null,
      "grid_row": null,
      "grid_template_areas": null,
      "grid_template_columns": null,
      "grid_template_rows": null,
      "height": null,
      "justify_content": null,
      "justify_items": null,
      "left": null,
      "margin": null,
      "max_height": null,
      "max_width": null,
      "min_height": null,
      "min_width": null,
      "object_fit": null,
      "object_position": null,
      "order": null,
      "overflow": null,
      "overflow_x": null,
      "overflow_y": null,
      "padding": null,
      "right": null,
      "top": null,
      "visibility": null,
      "width": null
     }
    },
    "f1ca9e6c48a942d8a95b0bd5c0bb68cf": {
     "model_module": "@jupyter-widgets/base",
     "model_module_version": "1.2.0",
     "model_name": "LayoutModel",
     "state": {
      "_model_module": "@jupyter-widgets/base",
      "_model_module_version": "1.2.0",
      "_model_name": "LayoutModel",
      "_view_count": null,
      "_view_module": "@jupyter-widgets/base",
      "_view_module_version": "1.2.0",
      "_view_name": "LayoutView",
      "align_content": null,
      "align_items": null,
      "align_self": null,
      "border": null,
      "bottom": null,
      "display": null,
      "flex": null,
      "flex_flow": null,
      "grid_area": null,
      "grid_auto_columns": null,
      "grid_auto_flow": null,
      "grid_auto_rows": null,
      "grid_column": null,
      "grid_gap": null,
      "grid_row": null,
      "grid_template_areas": null,
      "grid_template_columns": null,
      "grid_template_rows": null,
      "height": null,
      "justify_content": null,
      "justify_items": null,
      "left": null,
      "margin": null,
      "max_height": null,
      "max_width": null,
      "min_height": null,
      "min_width": null,
      "object_fit": null,
      "object_position": null,
      "order": null,
      "overflow": null,
      "overflow_x": null,
      "overflow_y": null,
      "padding": null,
      "right": null,
      "top": null,
      "visibility": null,
      "width": null
     }
    },
    "f6eccfacb0ff4dbf9aa83b93b5b30410": {
     "model_module": "@jupyter-widgets/controls",
     "model_module_version": "1.5.0",
     "model_name": "DescriptionStyleModel",
     "state": {
      "_model_module": "@jupyter-widgets/controls",
      "_model_module_version": "1.5.0",
      "_model_name": "DescriptionStyleModel",
      "_view_count": null,
      "_view_module": "@jupyter-widgets/base",
      "_view_module_version": "1.2.0",
      "_view_name": "StyleView",
      "description_width": ""
     }
    },
    "f8c95744263e43a987c5d60bc97fb710": {
     "model_module": "@jupyter-widgets/controls",
     "model_module_version": "1.5.0",
     "model_name": "FloatProgressModel",
     "state": {
      "_dom_classes": [],
      "_model_module": "@jupyter-widgets/controls",
      "_model_module_version": "1.5.0",
      "_model_name": "FloatProgressModel",
      "_view_count": null,
      "_view_module": "@jupyter-widgets/controls",
      "_view_module_version": "1.5.0",
      "_view_name": "ProgressView",
      "bar_style": "success",
      "description": "",
      "description_tooltip": null,
      "layout": "IPY_MODEL_09be2aa2ae574329ac3ff76dbaa6855d",
      "max": 5452,
      "min": 0,
      "orientation": "horizontal",
      "style": "IPY_MODEL_dc768beb616847b9a1a704b1ea0712fe",
      "value": 5452
     }
    },
    "fd0bb9f58a3941c19d11a6ea90d1daf2": {
     "model_module": "@jupyter-widgets/base",
     "model_module_version": "1.2.0",
     "model_name": "LayoutModel",
     "state": {
      "_model_module": "@jupyter-widgets/base",
      "_model_module_version": "1.2.0",
      "_model_name": "LayoutModel",
      "_view_count": null,
      "_view_module": "@jupyter-widgets/base",
      "_view_module_version": "1.2.0",
      "_view_name": "LayoutView",
      "align_content": null,
      "align_items": null,
      "align_self": null,
      "border": null,
      "bottom": null,
      "display": null,
      "flex": null,
      "flex_flow": null,
      "grid_area": null,
      "grid_auto_columns": null,
      "grid_auto_flow": null,
      "grid_auto_rows": null,
      "grid_column": null,
      "grid_gap": null,
      "grid_row": null,
      "grid_template_areas": null,
      "grid_template_columns": null,
      "grid_template_rows": null,
      "height": null,
      "justify_content": null,
      "justify_items": null,
      "left": null,
      "margin": null,
      "max_height": null,
      "max_width": null,
      "min_height": null,
      "min_width": null,
      "object_fit": null,
      "object_position": null,
      "order": null,
      "overflow": null,
      "overflow_x": null,
      "overflow_y": null,
      "padding": null,
      "right": null,
      "top": null,
      "visibility": null,
      "width": null
     }
    },
    "ff77b54fad0e4af6b78132713116aa78": {
     "model_module": "@jupyter-widgets/controls",
     "model_module_version": "1.5.0",
     "model_name": "HTMLModel",
     "state": {
      "_dom_classes": [],
      "_model_module": "@jupyter-widgets/controls",
      "_model_module_version": "1.5.0",
      "_model_name": "HTMLModel",
      "_view_count": null,
      "_view_module": "@jupyter-widgets/controls",
      "_view_module_version": "1.5.0",
      "_view_name": "HTMLView",
      "description": "",
      "description_tooltip": null,
      "layout": "IPY_MODEL_b8376aa1a1ac4d4794c08e983af11c7c",
      "placeholder": "​",
      "style": "IPY_MODEL_4c4656fd7c53487bb649f7b27141164e",
      "value": " 23.4k/23.4k [00:00&lt;00:00, 323kB/s]"
     }
    }
   }
  }
 },
 "nbformat": 4,
 "nbformat_minor": 0
}
